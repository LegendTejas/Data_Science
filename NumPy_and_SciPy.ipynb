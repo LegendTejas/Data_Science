{
  "nbformat": 4,
  "nbformat_minor": 0,
  "metadata": {
    "colab": {
      "provenance": [],
      "authorship_tag": "ABX9TyN+XJNJASx4hRMEZLP/j3F4",
      "include_colab_link": true
    },
    "kernelspec": {
      "name": "python3",
      "display_name": "Python 3"
    },
    "language_info": {
      "name": "python"
    }
  },
  "cells": [
    {
      "cell_type": "markdown",
      "metadata": {
        "id": "view-in-github",
        "colab_type": "text"
      },
      "source": [
        "<a href=\"https://colab.research.google.com/github/LegendTejas/Data_Science/blob/main/NumPy_and_SciPy.ipynb\" target=\"_parent\"><img src=\"https://colab.research.google.com/assets/colab-badge.svg\" alt=\"Open In Colab\"/></a>"
      ]
    },
    {
      "cell_type": "markdown",
      "source": [
        "#**NumPy**\n",
        "NumPy which stands for Numerical Python, is a library consisting of multidimensional array objects and a collection of routines for processing those arrays. Using NumPy, mathematical and logical operations on arrays can be performed."
      ],
      "metadata": {
        "id": "kOz34h6DbO4_"
      }
    },
    {
      "cell_type": "code",
      "execution_count": null,
      "metadata": {
        "id": "_AqMF-DHZNVh"
      },
      "outputs": [],
      "source": [
        "import numpy as np"
      ]
    },
    {
      "cell_type": "code",
      "source": [
        "a = np.array([1, 2, 3])\n",
        "b = np.array([[1,2,3],\n",
        "              [4,5,6]])\n",
        "print(a)\n",
        "print(\"\\n\")\n",
        "print(b)"
      ],
      "metadata": {
        "colab": {
          "base_uri": "https://localhost:8080/"
        },
        "id": "8CwhyOArZdG1",
        "outputId": "c38eab86-cbf5-49f4-a14b-17f857c25016"
      },
      "execution_count": null,
      "outputs": [
        {
          "output_type": "stream",
          "name": "stdout",
          "text": [
            "[1 2 3]\n",
            "\n",
            "\n",
            "[[1 2 3]\n",
            " [4 5 6]]\n"
          ]
        }
      ]
    },
    {
      "cell_type": "code",
      "source": [
        "print(\"shape of a: \",a.shape)\n",
        "print(\"shape of b: \",b.shape)"
      ],
      "metadata": {
        "colab": {
          "base_uri": "https://localhost:8080/"
        },
        "id": "Xqy1ZX1saKQ9",
        "outputId": "100ba21a-cd69-4508-f111-972f23955323"
      },
      "execution_count": null,
      "outputs": [
        {
          "output_type": "stream",
          "name": "stdout",
          "text": [
            "shape of a:  (3,)\n",
            "shape of b:  (2, 3)\n"
          ]
        }
      ]
    },
    {
      "cell_type": "markdown",
      "source": [
        "**NOTE:** If an aray has inconsistent no. of elements then it will throw error\n",
        "\n",
        "Example:"
      ],
      "metadata": {
        "id": "GzOoMTo8avC8"
      }
    },
    {
      "cell_type": "code",
      "source": [
        "b = np.array([[1, 3],\n",
        "              [4, 5, 6]])\n",
        "b"
      ],
      "metadata": {
        "colab": {
          "base_uri": "https://localhost:8080/",
          "height": 211
        },
        "id": "MhlE_e2laePh",
        "outputId": "1c9f6d32-e00b-4ed5-b7ab-412d454d3e81"
      },
      "execution_count": null,
      "outputs": [
        {
          "output_type": "error",
          "ename": "ValueError",
          "evalue": "setting an array element with a sequence. The requested array has an inhomogeneous shape after 1 dimensions. The detected shape was (2,) + inhomogeneous part.",
          "traceback": [
            "\u001b[0;31m---------------------------------------------------------------------------\u001b[0m",
            "\u001b[0;31mValueError\u001b[0m                                Traceback (most recent call last)",
            "\u001b[0;32m/tmp/ipython-input-12-231893162.py\u001b[0m in \u001b[0;36m<cell line: 0>\u001b[0;34m()\u001b[0m\n\u001b[0;32m----> 1\u001b[0;31m b = np.array([[1, 3],\n\u001b[0m\u001b[1;32m      2\u001b[0m               [4, 5, 6]])\n\u001b[1;32m      3\u001b[0m \u001b[0mb\u001b[0m\u001b[0;34m\u001b[0m\u001b[0;34m\u001b[0m\u001b[0m\n",
            "\u001b[0;31mValueError\u001b[0m: setting an array element with a sequence. The requested array has an inhomogeneous shape after 1 dimensions. The detected shape was (2,) + inhomogeneous part."
          ]
        }
      ]
    },
    {
      "cell_type": "markdown",
      "source": [
        "We can use different datatype elements in a numpy array"
      ],
      "metadata": {
        "id": "gMXoP4x2bU6C"
      }
    },
    {
      "cell_type": "code",
      "source": [
        "c = np.array([[1.5, 2, 3],\n",
        "            [True, 5.9, 8]])\n",
        "c"
      ],
      "metadata": {
        "colab": {
          "base_uri": "https://localhost:8080/"
        },
        "id": "40tLvSpDbSrs",
        "outputId": "272ff7b0-5c34-40b5-aa39-255cbe97ce39"
      },
      "execution_count": null,
      "outputs": [
        {
          "output_type": "execute_result",
          "data": {
            "text/plain": [
              "array([[1.5, 2. , 3. ],\n",
              "       [1. , 5.9, 8. ]])"
            ]
          },
          "metadata": {},
          "execution_count": 13
        }
      ]
    },
    {
      "cell_type": "markdown",
      "source": [
        "**reshape()** function returns a new view or copy of the original array with a different shape, without changing the data."
      ],
      "metadata": {
        "id": "8JxWd770cRgX"
      }
    },
    {
      "cell_type": "code",
      "source": [
        "a = np.array([1, 2, 3, 4, 5, 6])\n",
        "b = a.reshape((2, 3))\n",
        "print(b)\n",
        "\n",
        "print(\"\\n\")\n",
        "c = b.reshape((6,))\n",
        "print(c)"
      ],
      "metadata": {
        "colab": {
          "base_uri": "https://localhost:8080/"
        },
        "id": "YCe73RA7cQPj",
        "outputId": "076c99d7-c55e-4c18-96d2-87ea7923afea"
      },
      "execution_count": null,
      "outputs": [
        {
          "output_type": "stream",
          "name": "stdout",
          "text": [
            "[[1 2 3]\n",
            " [4 5 6]]\n",
            "\n",
            "\n",
            "[1 2 3 4 5 6]\n"
          ]
        }
      ]
    },
    {
      "cell_type": "code",
      "source": [
        "np.zeros((2,3))"
      ],
      "metadata": {
        "colab": {
          "base_uri": "https://localhost:8080/"
        },
        "id": "kZNRqBczc8Nd",
        "outputId": "e4b5e380-103f-4424-dda5-42e7fd034427"
      },
      "execution_count": null,
      "outputs": [
        {
          "output_type": "execute_result",
          "data": {
            "text/plain": [
              "array([[0., 0., 0.],\n",
              "       [0., 0., 0.]])"
            ]
          },
          "metadata": {},
          "execution_count": 17
        }
      ]
    },
    {
      "cell_type": "code",
      "source": [
        "np.ones((2,3), dtype=int)"
      ],
      "metadata": {
        "colab": {
          "base_uri": "https://localhost:8080/"
        },
        "id": "1YVep17HdJvn",
        "outputId": "36b7e1e1-dd7b-426c-8257-ff102e5760fe"
      },
      "execution_count": null,
      "outputs": [
        {
          "output_type": "execute_result",
          "data": {
            "text/plain": [
              "array([[1, 1, 1],\n",
              "       [1, 1, 1]])"
            ]
          },
          "metadata": {},
          "execution_count": 19
        }
      ]
    },
    {
      "cell_type": "markdown",
      "source": [
        "`arange()` is used to generate values in a specified interval with a specific step size, similar to Python’s built-in `range()` but returns a NumPy array.\n",
        "\n",
        "**Syntax:**\n",
        "`numpy.arange([start,] stop[, step], dtype=None)`"
      ],
      "metadata": {
        "id": "RLSuWlgUdWWw"
      }
    },
    {
      "cell_type": "code",
      "source": [
        "a = np.arange(0, 10, 2)\n",
        "print(a)"
      ],
      "metadata": {
        "colab": {
          "base_uri": "https://localhost:8080/"
        },
        "id": "BBN0oPs3dNHs",
        "outputId": "48c203ad-7339-4b9e-e3f8-aef6b7527b1b"
      },
      "execution_count": null,
      "outputs": [
        {
          "output_type": "stream",
          "name": "stdout",
          "text": [
            "[0 2 4 6 8]\n"
          ]
        }
      ]
    },
    {
      "cell_type": "code",
      "source": [
        "np.arange(1,11)"
      ],
      "metadata": {
        "colab": {
          "base_uri": "https://localhost:8080/"
        },
        "id": "KbPA4so_d2Qn",
        "outputId": "f5154ffa-c277-42d4-8606-d651f72a8e9f"
      },
      "execution_count": null,
      "outputs": [
        {
          "output_type": "execute_result",
          "data": {
            "text/plain": [
              "array([ 1,  2,  3,  4,  5,  6,  7,  8,  9, 10])"
            ]
          },
          "metadata": {},
          "execution_count": 21
        }
      ]
    },
    {
      "cell_type": "markdown",
      "source": [
        "`linspace()` is used to generate evenly spaced values over a specified range.\n",
        "\n",
        "**Syntax:**\n",
        "`numpy.linspace(start, stop, num=50, endpoint=True, retstep=False, dtype=None)`\n",
        "\n",
        "**Parameters:**\n",
        "* `start`: The starting value of the sequence.\n",
        "\n",
        "* `stop`: The end value of the sequence.\n",
        "\n",
        "* `num`: (default=50) Number of samples to generate.\n",
        "\n",
        "* `endpoint`: (default=True) If True, include stop in the array.\n",
        "\n",
        "* `retstep`: (default=False) If True, return the step between values.\n",
        "\n",
        "* `dtype`: The data type of the output array."
      ],
      "metadata": {
        "id": "LUBvpU0Nd9jm"
      }
    },
    {
      "cell_type": "code",
      "source": [
        "np.linspace(1, 11, num=11) #evenly spaced eleven numbers"
      ],
      "metadata": {
        "colab": {
          "base_uri": "https://localhost:8080/"
        },
        "id": "uw_eHhy1eqs4",
        "outputId": "b12dacce-8ab9-4e47-832b-391ece87ef8d"
      },
      "execution_count": null,
      "outputs": [
        {
          "output_type": "execute_result",
          "data": {
            "text/plain": [
              "array([ 1.,  2.,  3.,  4.,  5.,  6.,  7.,  8.,  9., 10., 11.])"
            ]
          },
          "metadata": {},
          "execution_count": 22
        }
      ]
    },
    {
      "cell_type": "code",
      "source": [
        "np.linspace(1, 12, num=11)"
      ],
      "metadata": {
        "colab": {
          "base_uri": "https://localhost:8080/"
        },
        "id": "ISI9EJa-fEuD",
        "outputId": "da8efd9c-806f-44b9-92f0-476de1a953e5"
      },
      "execution_count": null,
      "outputs": [
        {
          "output_type": "execute_result",
          "data": {
            "text/plain": [
              "array([ 1. ,  2.1,  3.2,  4.3,  5.4,  6.5,  7.6,  8.7,  9.8, 10.9, 12. ])"
            ]
          },
          "metadata": {},
          "execution_count": 23
        }
      ]
    },
    {
      "cell_type": "code",
      "source": [
        "np.linspace(0, 5, num=5, endpoint=False) #Excluding endpoint"
      ],
      "metadata": {
        "colab": {
          "base_uri": "https://localhost:8080/"
        },
        "id": "LjDvlfiWfMJq",
        "outputId": "5d8ee595-5d99-4014-f11b-c880e47a754d"
      },
      "execution_count": null,
      "outputs": [
        {
          "output_type": "execute_result",
          "data": {
            "text/plain": [
              "array([0., 1., 2., 3., 4.])"
            ]
          },
          "metadata": {},
          "execution_count": 24
        }
      ]
    },
    {
      "cell_type": "code",
      "source": [
        "#Example with step returned\n",
        "arr, step = np.linspace(0, 10, num=5, retstep=True)\n",
        "print(arr)\n",
        "print(\"Step size:\", step)"
      ],
      "metadata": {
        "colab": {
          "base_uri": "https://localhost:8080/"
        },
        "id": "PGE9IOMIhIuB",
        "outputId": "43110b8e-f3af-4076-d6db-825fe9321881"
      },
      "execution_count": null,
      "outputs": [
        {
          "output_type": "stream",
          "name": "stdout",
          "text": [
            "[ 0.   2.5  5.   7.5 10. ]\n",
            "Step size: 2.5\n"
          ]
        }
      ]
    },
    {
      "cell_type": "markdown",
      "source": [
        "**Difference between `arrange()` and `linspace()`**\n",
        "<div style=\"font-size:25px\">\n",
        "\n",
        "<table>\n",
        "  <tr>\n",
        "    <th>Feature</th>\n",
        "    <th><code>arange()</code></th>\n",
        "    <th><code>linspace()</code></th>\n",
        "  </tr>\n",
        "  <tr>\n",
        "    <td>Input</td>\n",
        "    <td>start, stop, step</td>\n",
        "    <td>start, stop, num(Number of elements)</td>\n",
        "  </tr>\n",
        "  <tr>\n",
        "    <td>Step control</td>\n",
        "    <td>You specify step</td>\n",
        "    <td>NumPy calculates step automatically</td>\n",
        "  </tr>\n",
        "  <tr>\n",
        "    <td>Stop value</td>\n",
        "    <td><b>Excluded</b></td>\n",
        "    <td>Usually <b>included</b></td>\n",
        "  </tr>\n",
        "  <tr>\n",
        "    <td>Precision</td>\n",
        "    <td>May suffer from float issues</td>\n",
        "    <td>More accurate with floats</td>\n",
        "  </tr>\n",
        "  <tr>\n",
        "    <td>Use case</td>\n",
        "    <td>Known step</td>\n",
        "    <td>Known number of samples</td>\n",
        "  </tr>\n",
        "</table>\n",
        "\n",
        "</div>\n"
      ],
      "metadata": {
        "id": "uGMIUrCsfwSU"
      }
    },
    {
      "cell_type": "code",
      "source": [
        "#random numbers\n",
        "np.random.randint(1,30,15)"
      ],
      "metadata": {
        "colab": {
          "base_uri": "https://localhost:8080/"
        },
        "id": "p82Nl9Hpbn_i",
        "outputId": "76ba330a-5897-41b2-e1cf-c5590ffc80b5"
      },
      "execution_count": null,
      "outputs": [
        {
          "output_type": "execute_result",
          "data": {
            "text/plain": [
              "array([ 6, 24, 15, 18,  6,  8,  9, 15,  5, 10, 12, 11,  2,  4, 27])"
            ]
          },
          "metadata": {},
          "execution_count": 4
        }
      ]
    },
    {
      "cell_type": "code",
      "source": [
        "# 2-D array\n",
        "np.random.randint(20,50,(3,4))"
      ],
      "metadata": {
        "colab": {
          "base_uri": "https://localhost:8080/"
        },
        "id": "pXCz1PqHbxsp",
        "outputId": "b1fa2c3a-1f77-4d88-b4af-c693530e5669"
      },
      "execution_count": null,
      "outputs": [
        {
          "output_type": "execute_result",
          "data": {
            "text/plain": [
              "array([[40, 20, 34, 20],\n",
              "       [39, 43, 43, 45],\n",
              "       [23, 22, 48, 37]])"
            ]
          },
          "metadata": {},
          "execution_count": 5
        }
      ]
    },
    {
      "cell_type": "code",
      "execution_count": null,
      "metadata": {
        "id": "pLiwMnGcItyA",
        "outputId": "5dae66cd-be50-4ca7-9f8c-4cf5c0f44531",
        "colab": {
          "base_uri": "https://localhost:8080/"
        }
      },
      "outputs": [
        {
          "output_type": "execute_result",
          "data": {
            "text/plain": [
              "array([[0.2885344 , 0.77999785, 0.37544616, 0.58003458],\n",
              "       [0.97877334, 0.47333344, 0.71510201, 0.2141226 ],\n",
              "       [0.67679787, 0.00518503, 0.08324744, 0.09340425]])"
            ]
          },
          "metadata": {},
          "execution_count": 11
        }
      ],
      "source": [
        "#random.rand\n",
        "np.random.rand(3,4) #random float numbers\n",
        "\n",
        "#generates random numbers from a uniform distribution over the interval [0,1]."
      ]
    },
    {
      "cell_type": "markdown",
      "source": [
        "#Accessing an element in numpy array"
      ],
      "metadata": {
        "id": "TYlNh7gYhaaP"
      }
    },
    {
      "cell_type": "code",
      "source": [
        "b"
      ],
      "metadata": {
        "colab": {
          "base_uri": "https://localhost:8080/"
        },
        "id": "zPLG2st9gCIT",
        "outputId": "98d4ae2d-32d1-4d4f-886e-bb3a3f4cdc6c"
      },
      "execution_count": null,
      "outputs": [
        {
          "output_type": "execute_result",
          "data": {
            "text/plain": [
              "array([[1, 2, 3],\n",
              "       [4, 5, 6]])"
            ]
          },
          "metadata": {},
          "execution_count": 26
        }
      ]
    },
    {
      "cell_type": "code",
      "source": [
        "b[0] #First row of the array"
      ],
      "metadata": {
        "colab": {
          "base_uri": "https://localhost:8080/"
        },
        "id": "wsUb3zmMhh2G",
        "outputId": "824f02dc-0166-4de9-d724-3bba2e76ac47"
      },
      "execution_count": null,
      "outputs": [
        {
          "output_type": "execute_result",
          "data": {
            "text/plain": [
              "array([1, 2, 3])"
            ]
          },
          "metadata": {},
          "execution_count": 27
        }
      ]
    },
    {
      "cell_type": "code",
      "source": [
        "b[1] #Second row of the array"
      ],
      "metadata": {
        "colab": {
          "base_uri": "https://localhost:8080/"
        },
        "id": "xmPrzaqPhkru",
        "outputId": "9e9e7775-2d46-4479-a1cf-6e73923fd793"
      },
      "execution_count": null,
      "outputs": [
        {
          "output_type": "execute_result",
          "data": {
            "text/plain": [
              "array([4, 5, 6])"
            ]
          },
          "metadata": {},
          "execution_count": 28
        }
      ]
    },
    {
      "cell_type": "code",
      "source": [
        "b[:] # All rows (same as b)"
      ],
      "metadata": {
        "colab": {
          "base_uri": "https://localhost:8080/"
        },
        "id": "RBUMD3jbhsim",
        "outputId": "15f96ac5-68bf-492f-ebcd-b7f8e0485c10"
      },
      "execution_count": null,
      "outputs": [
        {
          "output_type": "execute_result",
          "data": {
            "text/plain": [
              "array([[1, 2, 3],\n",
              "       [4, 5, 6]])"
            ]
          },
          "metadata": {},
          "execution_count": 29
        }
      ]
    },
    {
      "cell_type": "code",
      "source": [
        "print(b[:, 0]) #All rows, first column (i.e., 1st element of each row)"
      ],
      "metadata": {
        "colab": {
          "base_uri": "https://localhost:8080/"
        },
        "id": "fdxpIJcKhvJF",
        "outputId": "c7c4ecd1-2266-4877-aa96-1984ee39c576"
      },
      "execution_count": null,
      "outputs": [
        {
          "output_type": "stream",
          "name": "stdout",
          "text": [
            "[1 4]\n"
          ]
        }
      ]
    },
    {
      "cell_type": "code",
      "source": [
        "print(b[:, 2]) #All rows, third column (i.e., 3rd element of each row)"
      ],
      "metadata": {
        "colab": {
          "base_uri": "https://localhost:8080/"
        },
        "id": "kb7EaFswiJnh",
        "outputId": "e4f316ae-ad6e-45cd-a52f-409684682688"
      },
      "execution_count": null,
      "outputs": [
        {
          "output_type": "stream",
          "name": "stdout",
          "text": [
            "[3 6]\n"
          ]
        }
      ]
    },
    {
      "cell_type": "code",
      "source": [
        "b[0, 0] # b[0,0] or b[0][0] both will give  Element at first row and first column"
      ],
      "metadata": {
        "colab": {
          "base_uri": "https://localhost:8080/"
        },
        "id": "E7IrK4L6iN3Y",
        "outputId": "416e3701-f0ad-4dfc-a34d-17a0649e4bb4"
      },
      "execution_count": null,
      "outputs": [
        {
          "output_type": "execute_result",
          "data": {
            "text/plain": [
              "np.int64(1)"
            ]
          },
          "metadata": {},
          "execution_count": 4
        }
      ]
    },
    {
      "cell_type": "markdown",
      "source": [
        "It means the element is a NumPy scalar type (numpy.int64)\n",
        "\n",
        "**If you just want the plain Python integer:**\n",
        "\n",
        "Use `.item()` or `int()` to convert it:"
      ],
      "metadata": {
        "id": "jVg6CRLSi3mM"
      }
    },
    {
      "cell_type": "code",
      "source": [
        "print(b[0, 0].item())\n",
        "# or\n",
        "print(int(b[0, 0]))"
      ],
      "metadata": {
        "colab": {
          "base_uri": "https://localhost:8080/"
        },
        "id": "lQ46Ij12jIud",
        "outputId": "0654337c-aeb7-4663-c8b4-001580e003e2"
      },
      "execution_count": null,
      "outputs": [
        {
          "output_type": "stream",
          "name": "stdout",
          "text": [
            "1\n"
          ]
        }
      ]
    },
    {
      "cell_type": "code",
      "source": [
        "int(b[1,2])\n",
        "\n",
        "# This means access the element at:\n",
        "# Row Index 1(i.e., the second row → [4, 5, 6])\n",
        "# Column Index 2(i.e., the third element in that row → 6)"
      ],
      "metadata": {
        "colab": {
          "base_uri": "https://localhost:8080/"
        },
        "id": "wWFJq30gjizF",
        "outputId": "72a42614-f87a-4721-ef76-da80fc4d6c5d"
      },
      "execution_count": null,
      "outputs": [
        {
          "output_type": "execute_result",
          "data": {
            "text/plain": [
              "6"
            ]
          },
          "metadata": {},
          "execution_count": 44
        }
      ]
    },
    {
      "cell_type": "code",
      "source": [
        "b"
      ],
      "metadata": {
        "colab": {
          "base_uri": "https://localhost:8080/"
        },
        "id": "Tutw_1XfkZ5O",
        "outputId": "2194a046-9cd0-431b-f005-f82f52374c6b"
      },
      "execution_count": null,
      "outputs": [
        {
          "output_type": "execute_result",
          "data": {
            "text/plain": [
              "array([[1, 2, 3],\n",
              "       [4, 5, 6]])"
            ]
          },
          "metadata": {},
          "execution_count": 55
        }
      ]
    },
    {
      "cell_type": "code",
      "source": [
        "b > 3"
      ],
      "metadata": {
        "colab": {
          "base_uri": "https://localhost:8080/"
        },
        "id": "D3HStYO9lCbq",
        "outputId": "e3825e67-f145-4263-bd5a-09c2a7bb05bc"
      },
      "execution_count": null,
      "outputs": [
        {
          "output_type": "execute_result",
          "data": {
            "text/plain": [
              "array([[False, False, False],\n",
              "       [ True,  True,  True]])"
            ]
          },
          "metadata": {},
          "execution_count": 56
        }
      ]
    },
    {
      "cell_type": "code",
      "source": [
        "#To get those numbers which are greater than 3\n",
        "b[b > 3]"
      ],
      "metadata": {
        "colab": {
          "base_uri": "https://localhost:8080/"
        },
        "id": "F1LjinK5l1Hj",
        "outputId": "e05b2ef1-f30a-4e97-9145-8b6e57b94e06"
      },
      "execution_count": null,
      "outputs": [
        {
          "output_type": "execute_result",
          "data": {
            "text/plain": [
              "array([4, 5, 6])"
            ]
          },
          "metadata": {},
          "execution_count": 57
        }
      ]
    },
    {
      "cell_type": "markdown",
      "source": [
        "#Numpy axis\n",
        "An **axis** refers to a **dimension** along which operations like `sum()`, `mean()`, or `concatenate()` are performed.\n",
        "\n",
        "* Think of it as a direction in the array:\n",
        "\n",
        "* **Axis 0** → down the rows (**column-wise**)\n",
        "\n",
        "* **Axis 1** → across the columns(**row-wise**)"
      ],
      "metadata": {
        "id": "W_szy0PrmYEV"
      }
    },
    {
      "cell_type": "code",
      "source": [
        "a = np.array([[1, 2, 3],\n",
        "              [4, 5, 6]])"
      ],
      "metadata": {
        "id": "7t-yRZ81nPFW"
      },
      "execution_count": null,
      "outputs": []
    },
    {
      "cell_type": "markdown",
      "source": [
        "###**Operations using axis**\n",
        "\n",
        "1. `np.sum(a, axis=0)` → Sum column-wise"
      ],
      "metadata": {
        "id": "KquOd610ndOL"
      }
    },
    {
      "cell_type": "code",
      "source": [
        "np.sum(a, axis=0)  # [1+4, 2+5, 3+6] = [5, 7, 9]"
      ],
      "metadata": {
        "colab": {
          "base_uri": "https://localhost:8080/"
        },
        "id": "3GtQ0N6MnpPS",
        "outputId": "909cc1f1-caad-452d-aa60-64966b3ce522"
      },
      "execution_count": null,
      "outputs": [
        {
          "output_type": "execute_result",
          "data": {
            "text/plain": [
              "array([5, 7, 9])"
            ]
          },
          "metadata": {},
          "execution_count": 59
        }
      ]
    },
    {
      "cell_type": "markdown",
      "source": [
        "2. `np.sum(a, axis=1)` → Sum row-wise"
      ],
      "metadata": {
        "id": "hO8FUcrDn1Ev"
      }
    },
    {
      "cell_type": "code",
      "source": [
        "np.sum(a, axis=1)  # [1+2+3, 4+5+6] = [6, 15]"
      ],
      "metadata": {
        "id": "yYkD_lisn0Fy"
      },
      "execution_count": null,
      "outputs": []
    },
    {
      "cell_type": "markdown",
      "source": [
        "3. `np.mean(a, axis=0)` → Mean down columns (column-wise)"
      ],
      "metadata": {
        "id": "bcp7q-IXosO1"
      }
    },
    {
      "cell_type": "code",
      "source": [
        "np.mean(a, axis=0)\n",
        "# [ (1+4)/2, (2+5)/2, (3+6)/2 ] → [2.5, 3.5, 4.5]"
      ],
      "metadata": {
        "colab": {
          "base_uri": "https://localhost:8080/"
        },
        "id": "dx8G6cfUpdk1",
        "outputId": "6d28f353-3a3d-4efb-f515-abbc6f482641"
      },
      "execution_count": null,
      "outputs": [
        {
          "output_type": "execute_result",
          "data": {
            "text/plain": [
              "array([2.5, 3.5, 4.5])"
            ]
          },
          "metadata": {},
          "execution_count": 60
        }
      ]
    },
    {
      "cell_type": "markdown",
      "source": [
        "4. `np.mean(a, axis=1)`→ Mean across rows (row-wise)"
      ],
      "metadata": {
        "id": "1OAVTqzephiH"
      }
    },
    {
      "cell_type": "code",
      "source": [
        "np.mean(a, axis=1)\n",
        "# [ (1+2+3)/3, (4+5+6)/3 ] → [2.0, 5.0]"
      ],
      "metadata": {
        "colab": {
          "base_uri": "https://localhost:8080/"
        },
        "id": "Cd_17cxQptPi",
        "outputId": "d310b2bc-bf70-481c-bd12-25d762ccf65a"
      },
      "execution_count": null,
      "outputs": [
        {
          "output_type": "execute_result",
          "data": {
            "text/plain": [
              "array([2., 5.])"
            ]
          },
          "metadata": {},
          "execution_count": 61
        }
      ]
    },
    {
      "cell_type": "markdown",
      "source": [
        "#### **np.concatenate()**"
      ],
      "metadata": {
        "id": "3m6IVafCpxjW"
      }
    },
    {
      "cell_type": "code",
      "source": [
        "a = np.array([[1, 2, 3],\n",
        "              [4, 5, 6]])\n",
        "\n",
        "b = np.array([[7, 8, 9],\n",
        "              [10, 11, 12]])"
      ],
      "metadata": {
        "id": "SBQvtsU4qHG4"
      },
      "execution_count": null,
      "outputs": []
    },
    {
      "cell_type": "markdown",
      "source": [
        "`np.concatenate((a, b), axis=0)` → Add rows (stack vertically)"
      ],
      "metadata": {
        "id": "vupaOuKyqNRR"
      }
    },
    {
      "cell_type": "code",
      "source": [
        "# Shape becomes (4, 3)\n",
        "np.concatenate((a, b), axis=0)"
      ],
      "metadata": {
        "colab": {
          "base_uri": "https://localhost:8080/"
        },
        "id": "YYkVMKY3qYiQ",
        "outputId": "7117cc8f-05ad-4392-b0c7-5b893f2d03f0"
      },
      "execution_count": null,
      "outputs": [
        {
          "output_type": "execute_result",
          "data": {
            "text/plain": [
              "array([[ 1,  2,  3],\n",
              "       [ 4,  5,  6],\n",
              "       [ 7,  8,  9],\n",
              "       [10, 11, 12]])"
            ]
          },
          "metadata": {},
          "execution_count": 63
        }
      ]
    },
    {
      "cell_type": "markdown",
      "source": [
        "`np.concatenate((a, b), axis=1)` → Add columns (stack horizontally)"
      ],
      "metadata": {
        "id": "hdanMUotqUMd"
      }
    },
    {
      "cell_type": "code",
      "source": [
        "# Shape becomes (2, 6)\n",
        "np.concatenate((a, b), axis=1)"
      ],
      "metadata": {
        "colab": {
          "base_uri": "https://localhost:8080/"
        },
        "id": "P2aifhboqdag",
        "outputId": "19b0dcca-3610-4406-f55b-e6d8f40a34c4"
      },
      "execution_count": null,
      "outputs": [
        {
          "output_type": "execute_result",
          "data": {
            "text/plain": [
              "array([[ 1,  2,  3,  7,  8,  9],\n",
              "       [ 4,  5,  6, 10, 11, 12]])"
            ]
          },
          "metadata": {},
          "execution_count": 64
        }
      ]
    },
    {
      "cell_type": "markdown",
      "source": [
        "**✅ Rule of Thumb:**\n",
        "\n",
        "* **Axis 0** = operate down the rows (column-wise)\n",
        "\n",
        "* **Axis 1** = operate across the columns (row-wise)\n",
        "\n",
        "* Higher dimensions: axis increases as dimensions go deeper."
      ],
      "metadata": {
        "id": "wupQp1i5ocKS"
      }
    },
    {
      "cell_type": "markdown",
      "source": [
        "###NumPy Stacking\n",
        "\n",
        "In NumPy, stacking means joining multiple arrays along a new or existing axis. There are several stacking functions available:"
      ],
      "metadata": {
        "id": "9MSnl89dX4m7"
      }
    },
    {
      "cell_type": "markdown",
      "source": [
        "**1. np.stack()**\n",
        "\n",
        "Stacks arrays along a new axis.\n",
        "All input arrays must have the same shape."
      ],
      "metadata": {
        "id": "Dj_lTxau-OZE"
      }
    },
    {
      "cell_type": "code",
      "source": [
        "a = np.array([1, 2, 3])\n",
        "b = np.array([4, 5, 6])\n",
        "\n",
        "# Stack along a new axis (default axis=0)\n",
        "result = np.stack((a, b))\n",
        "print(result)"
      ],
      "metadata": {
        "colab": {
          "base_uri": "https://localhost:8080/"
        },
        "id": "DIHtFRn1--9s",
        "outputId": "3d807731-27e3-4702-e838-a80dd5be4383"
      },
      "execution_count": null,
      "outputs": [
        {
          "output_type": "stream",
          "name": "stdout",
          "text": [
            "[[1 2 3]\n",
            " [4 5 6]]\n"
          ]
        }
      ]
    },
    {
      "cell_type": "markdown",
      "source": [
        "You can change the axis:"
      ],
      "metadata": {
        "id": "9g9IAO3B_phA"
      }
    },
    {
      "cell_type": "code",
      "source": [
        "np.stack((a, b), axis=1)\n",
        "# Output: [[1 4]\n",
        "#          [2 5]\n",
        "#          [3 6]]"
      ],
      "metadata": {
        "id": "QEG5nA0H_qKI"
      },
      "execution_count": null,
      "outputs": []
    },
    {
      "cell_type": "markdown",
      "source": [
        "**2. np.hstack()**\n",
        "\n",
        "Horizontal stacking — stacks arrays along columns (axis=1 for 2D)."
      ],
      "metadata": {
        "id": "99w04E6o_xfQ"
      }
    },
    {
      "cell_type": "code",
      "source": [
        "a = np.array([[1], [2], [3]])\n",
        "b = np.array([[4], [5], [6]])\n",
        "\n",
        "np.hstack((a, b))"
      ],
      "metadata": {
        "colab": {
          "base_uri": "https://localhost:8080/"
        },
        "id": "nnbOnPkb_7b-",
        "outputId": "fb94c3a0-70a3-4b9a-e4a1-ce129bf3fa51"
      },
      "execution_count": null,
      "outputs": [
        {
          "output_type": "execute_result",
          "data": {
            "text/plain": [
              "array([[1, 4],\n",
              "       [2, 5],\n",
              "       [3, 6]])"
            ]
          },
          "metadata": {},
          "execution_count": 4
        }
      ]
    },
    {
      "cell_type": "markdown",
      "source": [
        "**3. np.vstack()**\n",
        "\n",
        "Vertical stacking — stacks arrays on top of each other (axis=0)."
      ],
      "metadata": {
        "id": "vE5tCji7AE2H"
      }
    },
    {
      "cell_type": "code",
      "source": [
        "a = np.array([1, 2, 3])\n",
        "b = np.array([4, 5, 6])\n",
        "\n",
        "np.vstack((a, b))"
      ],
      "metadata": {
        "colab": {
          "base_uri": "https://localhost:8080/"
        },
        "id": "s4cPY-XFAcwt",
        "outputId": "4b50a92c-5324-4b29-dcc4-3acbbfb054aa"
      },
      "execution_count": null,
      "outputs": [
        {
          "output_type": "execute_result",
          "data": {
            "text/plain": [
              "array([[1, 2, 3],\n",
              "       [4, 5, 6]])"
            ]
          },
          "metadata": {},
          "execution_count": 5
        }
      ]
    },
    {
      "cell_type": "code",
      "source": [
        "arr1 = ([8,9,0])\n",
        "arr2 = ([5,6,7])\n",
        "\n",
        "vertical_stack = np.vstack((arr1,arr2))\n",
        "horizontal_stack = np.hstack((arr1,arr2))\n",
        "\n",
        "print(\"Vertical Stack: \")\n",
        "print(vertical_stack)\n",
        "print(\"Horizontal Stack: \")\n",
        "print(horizontal_stack)\n",
        "print(\"\\n\")\n",
        "print(np.shape(vertical_stack))\n",
        "print(np.shape(horizontal_stack))"
      ],
      "metadata": {
        "colab": {
          "base_uri": "https://localhost:8080/"
        },
        "id": "gFB64BU7Wf0J",
        "outputId": "63b884a6-5dec-4ef2-894f-0aa75bab1d4b"
      },
      "execution_count": null,
      "outputs": [
        {
          "output_type": "stream",
          "name": "stdout",
          "text": [
            "Vertical Stack: \n",
            "[[8 9 0]\n",
            " [5 6 7]]\n",
            "Horizontal Stack: \n",
            "[8 9 0 5 6 7]\n",
            "\n",
            "\n",
            "(2, 3)\n",
            "(6,)\n"
          ]
        }
      ]
    },
    {
      "cell_type": "markdown",
      "source": [
        "**4. np.dstack()**\n",
        "\n",
        "Stacks along depth (third axis)."
      ],
      "metadata": {
        "id": "28thppCqAiCU"
      }
    },
    {
      "cell_type": "code",
      "source": [
        "a = np.array([1, 2, 3])\n",
        "b = np.array([4, 5, 6])\n",
        "\n",
        "np.dstack((a, b))"
      ],
      "metadata": {
        "colab": {
          "base_uri": "https://localhost:8080/"
        },
        "id": "8Vh3yQ9rDaCY",
        "outputId": "9e790d86-57db-4eae-def3-835de8d275ca"
      },
      "execution_count": null,
      "outputs": [
        {
          "output_type": "execute_result",
          "data": {
            "text/plain": [
              "array([[[1, 4],\n",
              "        [2, 5],\n",
              "        [3, 6]]])"
            ]
          },
          "metadata": {},
          "execution_count": 6
        }
      ]
    },
    {
      "cell_type": "code",
      "source": [
        "b = np.array([1,2,3,4,5,6,7,8])\n",
        "c = b.reshape((2,4))\n",
        "print(c)\n",
        "a = np.transpose(c)\n",
        "a"
      ],
      "metadata": {
        "colab": {
          "base_uri": "https://localhost:8080/"
        },
        "id": "7Y35y0g1Ox2j",
        "outputId": "6f47163f-875a-46f3-ca7f-f930ffff4d31"
      },
      "execution_count": null,
      "outputs": [
        {
          "output_type": "stream",
          "name": "stdout",
          "text": [
            "[[1 2 3 4]\n",
            " [5 6 7 8]]\n"
          ]
        },
        {
          "output_type": "execute_result",
          "data": {
            "text/plain": [
              "array([[1, 5],\n",
              "       [2, 6],\n",
              "       [3, 7],\n",
              "       [4, 8]])"
            ]
          },
          "metadata": {},
          "execution_count": 11
        }
      ]
    },
    {
      "cell_type": "markdown",
      "source": [
        "###NumPy Broadcasting\n",
        "\n",
        "Broadcasting automatically expands the smaller array(s) to match the shape of the larger one during arithmetic operations, following specific rules."
      ],
      "metadata": {
        "id": "8B5r55fiZoy7"
      }
    },
    {
      "cell_type": "code",
      "source": [
        "a = np.array([1, 2, 3])       # shape (3,)\n",
        "b = np.array([[10], [20]])    # shape (2,1)\n",
        "\n",
        "# Broadcasting b to shape (2,3)\n",
        "result = a + b\n",
        "print(result)"
      ],
      "metadata": {
        "id": "6L4U_5ZBeEwO",
        "colab": {
          "base_uri": "https://localhost:8080/"
        },
        "outputId": "b8dcbdc4-636d-49b1-e05d-d891ee49c65f"
      },
      "execution_count": null,
      "outputs": [
        {
          "output_type": "stream",
          "name": "stdout",
          "text": [
            "[[11 12 13]\n",
            " [21 22 23]]\n"
          ]
        }
      ]
    },
    {
      "cell_type": "code",
      "source": [
        "arr1 = np.array([1,2,3,4,5])\n",
        "print(np.shape(arr1))\n",
        "arr2 = np.array([[6],[7],[8],[9],[10]])\n",
        "print(np.shape(arr2))\n",
        "print(\"\\n\")\n",
        "sum = arr1 + arr2\n",
        "print(sum)"
      ],
      "metadata": {
        "colab": {
          "base_uri": "https://localhost:8080/"
        },
        "id": "6FgNzpbGZnDM",
        "outputId": "8fafbfaa-20c1-44e6-e7c5-88f4236de189"
      },
      "execution_count": null,
      "outputs": [
        {
          "output_type": "stream",
          "name": "stdout",
          "text": [
            "(5,)\n",
            "(5, 1)\n",
            "\n",
            "\n",
            "[[ 7  8  9 10 11]\n",
            " [ 8  9 10 11 12]\n",
            " [ 9 10 11 12 13]\n",
            " [10 11 12 13 14]\n",
            " [11 12 13 14 15]]\n"
          ]
        }
      ]
    },
    {
      "cell_type": "markdown",
      "source": [
        "###**Common Use cases of Broadcasting:**\n",
        "\n",
        "Adding a scalar to an array:"
      ],
      "metadata": {
        "id": "IkMYw2sUflgo"
      }
    },
    {
      "cell_type": "code",
      "source": [
        "arr = np.array([1, 2, 3]) + 5\n",
        "print(arr)"
      ],
      "metadata": {
        "colab": {
          "base_uri": "https://localhost:8080/"
        },
        "id": "2KhgX1BcfpCg",
        "outputId": "f2fa3328-96a6-41b6-b64c-4be60ed599a8"
      },
      "execution_count": null,
      "outputs": [
        {
          "output_type": "stream",
          "name": "stdout",
          "text": [
            "[6 7 8]\n"
          ]
        }
      ]
    },
    {
      "cell_type": "markdown",
      "source": [
        "Row-wise or column-wise operations:"
      ],
      "metadata": {
        "id": "8yfZLSoHfxXm"
      }
    },
    {
      "cell_type": "code",
      "source": [
        "a = np.array([[1, 2, 3], [4, 5, 6]])\n",
        "b = np.array([10, 20, 30])\n",
        "print(a + b)"
      ],
      "metadata": {
        "colab": {
          "base_uri": "https://localhost:8080/"
        },
        "id": "2WBgVOxQf0nu",
        "outputId": "10135dcb-a26d-4a37-cc35-ca4df3202030"
      },
      "execution_count": null,
      "outputs": [
        {
          "output_type": "stream",
          "name": "stdout",
          "text": [
            "[[11 22 33]\n",
            " [14 25 36]]\n"
          ]
        }
      ]
    },
    {
      "cell_type": "markdown",
      "source": [
        "Element-wise operations with reshaped arrays:"
      ],
      "metadata": {
        "id": "a0zIYlzuEw_5"
      }
    },
    {
      "cell_type": "code",
      "source": [
        "a = np.array([1, 2, 3])\n",
        "b = a.reshape(3, 1)  # shape (3,1)\n",
        "print(a + b)         # shapes: (3,) and (3,1)"
      ],
      "metadata": {
        "id": "Ys8XIf5FfyAR",
        "colab": {
          "base_uri": "https://localhost:8080/"
        },
        "outputId": "232b734c-720e-4b2a-ed9d-9cb11e5bbeff"
      },
      "execution_count": null,
      "outputs": [
        {
          "output_type": "stream",
          "name": "stdout",
          "text": [
            "[[2 3 4]\n",
            " [3 4 5]\n",
            " [4 5 6]]\n"
          ]
        }
      ]
    },
    {
      "cell_type": "code",
      "source": [
        "arr1 = np.random.randint(1, 10, size= 5)\n",
        "print(arr1)\n",
        "print(np.shape(arr1))\n",
        "arr2 = np.array([[6]])\n",
        "print(np.shape(arr2))\n",
        "print(\"\\n\")\n",
        "sum = arr1 + arr2\n",
        "print(sum)"
      ],
      "metadata": {
        "colab": {
          "base_uri": "https://localhost:8080/"
        },
        "id": "XsG3Iah4d_IX",
        "outputId": "7efff680-d248-425e-827d-fb4096fa540d"
      },
      "execution_count": null,
      "outputs": [
        {
          "output_type": "stream",
          "name": "stdout",
          "text": [
            "[3 8 7 3 6]\n",
            "(5,)\n",
            "(1, 1)\n",
            "\n",
            "\n",
            "[[ 9 14 13  9 12]]\n"
          ]
        }
      ]
    },
    {
      "cell_type": "markdown",
      "source": [
        "#**NumPy - Practice Exercises, Questions, and Solutions**\n",
        "\n",
        "1. ### Create an empty and a full NumPy array?"
      ],
      "metadata": {
        "id": "XethR1846DcO"
      }
    },
    {
      "cell_type": "code",
      "source": [
        "# Create an empty array of shape (3, 4)\n",
        "empty_array = np.empty((3, 4))\n",
        "print(\"Empty Array:\\n\", empty_array)\n",
        "\n",
        "# Create a full array of shape (3, 3) filled with the value 5\n",
        "full_array = np.full((3, 3), 5)\n",
        "print(\"Full Array:\\n\", full_array)"
      ],
      "metadata": {
        "colab": {
          "base_uri": "https://localhost:8080/"
        },
        "id": "nMQ7IJ9z6Yrb",
        "outputId": "95c075d5-088b-4983-e850-cc466be105e7"
      },
      "execution_count": null,
      "outputs": [
        {
          "output_type": "stream",
          "name": "stdout",
          "text": [
            "Empty Array:\n",
            " [[3.47941232e-315 0.00000000e+000 2.10077583e-312 6.79038654e-313]\n",
            " [2.22809558e-312 2.14321575e-312 2.35541533e-312 6.79038654e-313]\n",
            " [2.22809558e-312 2.14321575e-312 2.46151512e-312 2.41907520e-312]]\n",
            "Full Array:\n",
            " [[5 5 5]\n",
            " [5 5 5]\n",
            " [5 5 5]]\n"
          ]
        }
      ]
    },
    {
      "cell_type": "markdown",
      "source": [
        "2. Check whether a Numpy array contains a specified row"
      ],
      "metadata": {
        "id": "37-9Uo_u3Ymi"
      }
    },
    {
      "cell_type": "code",
      "source": [
        "arr = np.array([[1, 2, 3, 4, 5],\n",
        "                [6, 7, 8, 9, 10],\n",
        "                [11, 12, 13, 14, 15],\n",
        "                [16, 17, 18, 19, 20]\n",
        "               ])\n",
        "\n",
        "print(arr)\n",
        "\n",
        "# check for some lists\n",
        "print([1, 2, 3, 4, 5] in arr.tolist())\n",
        "print([16, 17, 20, 19, 18] in arr.tolist())"
      ],
      "metadata": {
        "colab": {
          "base_uri": "https://localhost:8080/"
        },
        "id": "EpOJW-wUYbP5",
        "outputId": "ba3697a4-433c-4301-ce4d-131da2634898"
      },
      "execution_count": null,
      "outputs": [
        {
          "output_type": "stream",
          "name": "stdout",
          "text": [
            "[[ 1  2  3  4  5]\n",
            " [ 6  7  8  9 10]\n",
            " [11 12 13 14 15]\n",
            " [16 17 18 19 20]]\n",
            "True\n",
            "False\n"
          ]
        }
      ]
    },
    {
      "cell_type": "markdown",
      "source": [
        "3. Flatten a 2D NumPy array into 1D array"
      ],
      "metadata": {
        "id": "xlWT0_UcYva4"
      }
    },
    {
      "cell_type": "code",
      "source": [
        "#M-1: Using ravel():\n",
        "#Returns a flattened 1D array — similar to flatten(), but returns a view (if possible) instead of a copy:\n",
        "arr = np.array([[1, 2, 3], [2, 4, 5], [1, 2, 3]])\n",
        "flattened = arr.ravel()\n",
        "\n",
        "print(\"Flattened array using ravel():\", flattened)\n",
        "\n",
        "#M-2: Using reshape(): You can reshape it into a 1D array using -1:\n",
        "flattened = arr.reshape(-1)\n",
        "print(\"Flattened array using reshape():\", flattened)\n",
        "\n",
        "#M-3:  Using np.hstack()\n",
        "flattened = np.hstack(arr)\n",
        "print(\"Flattened using hstack():\", flattened)\n",
        "\n",
        "#M-4: Using np.concatenate() with list comprehension\n",
        "#Concatenates all rows into a single 1D array:\n",
        "flattened = np.concatenate([row for row in arr])\n",
        "print(\"Flattened using concatenate + list comprehension:\", flattened)"
      ],
      "metadata": {
        "colab": {
          "base_uri": "https://localhost:8080/"
        },
        "id": "5Tie8XZGZO50",
        "outputId": "9c5ca489-9091-4005-b9ea-a0915f4f99be"
      },
      "execution_count": null,
      "outputs": [
        {
          "output_type": "stream",
          "name": "stdout",
          "text": [
            "Flattened array using ravel(): [1 2 3 2 4 5 1 2 3]\n",
            "Flattened array using reshape(): [1 2 3 2 4 5 1 2 3]\n",
            "Flattened using hstack(): [1 2 3 2 4 5 1 2 3]\n",
            "Flattened using concatenate + list comprehension: [1 2 3 2 4 5 1 2 3]\n"
          ]
        }
      ]
    },
    {
      "cell_type": "markdown",
      "source": [
        "4. Replace NumPy array elements that doesn't satisfy the given condition\n",
        "\n",
        "**Method-1: Using Boolean Masking and relational operators**\n",
        "\n",
        "Exampe 1: In 1-D NumPy array"
      ],
      "metadata": {
        "id": "I11djmSSaequ"
      }
    },
    {
      "cell_type": "code",
      "source": [
        "# Creating a 1-D Numpy array\n",
        "arr = np.array([75, 42, 60, 30])\n",
        "print(\"Given array:\")\n",
        "print(arr)\n",
        "\n",
        "print(\"\\nReplace all elements of array which are greater than 50 to 15\")\n",
        "arr[arr > 50] = 15\n",
        "\n",
        "print(\"New array :\\n\")\n",
        "print(arr)"
      ],
      "metadata": {
        "colab": {
          "base_uri": "https://localhost:8080/"
        },
        "id": "-sp-YDEnbvCu",
        "outputId": "34740903-1d60-441c-df0e-d50732f343cf"
      },
      "execution_count": null,
      "outputs": [
        {
          "output_type": "stream",
          "name": "stdout",
          "text": [
            "Given array:\n",
            "[75 42 60 30]\n",
            "\n",
            "Replace all elements of array which are greater than 50. to 15\n",
            "New array :\n",
            "\n",
            "[15 42 15 30]\n"
          ]
        }
      ]
    },
    {
      "cell_type": "markdown",
      "source": [
        "Example 2: In 2-D Numpy array"
      ],
      "metadata": {
        "id": "VK72kq8OcSzX"
      }
    },
    {
      "cell_type": "code",
      "source": [
        "# Creating a 2-D Numpy array\n",
        "n_arr = np.array([[45, 52, 10],\n",
        "                  [5, 50, 25]])\n",
        "print(\"Given array:\")\n",
        "print(n_arr)\n",
        "\n",
        "print(\"\\nReplace all elements of array which are greater than 30 to 5\")\n",
        "n_arr[n_arr > 30] = 5\n",
        "\n",
        "print(\"New array :\\n\")\n",
        "print(n_arr)"
      ],
      "metadata": {
        "colab": {
          "base_uri": "https://localhost:8080/"
        },
        "id": "2paZ2QOpcT3u",
        "outputId": "f0393b42-abc8-4f5d-d9ad-9a6c38453a4d"
      },
      "execution_count": null,
      "outputs": [
        {
          "output_type": "stream",
          "name": "stdout",
          "text": [
            "Given array:\n",
            "[[45 52 10]\n",
            " [ 5 50 25]]\n",
            "\n",
            "Replace all elements of array which are greater than 30 to 5\n",
            "New array :\n",
            "\n",
            "[[ 5  5 10]\n",
            " [ 5  5 25]]\n"
          ]
        }
      ]
    },
    {
      "cell_type": "markdown",
      "source": [
        "Example 3: In 3-D Numpy array"
      ],
      "metadata": {
        "id": "i4xJBnhecpek"
      }
    },
    {
      "cell_type": "code",
      "source": [
        "n_arr = np.array([[[11, 25, 70], [30, 45, 55], [20, 45.8, 7.1]],\n",
        "                  [[50, 65, 8], [70, 85, 10], [11, 22.2, 33.6]],\n",
        "                  [[19, 69, 36], [1, 5, 24], [4.9, 20.8, 96.7]]])\n",
        "\n",
        "print(\"Given array:\")\n",
        "print(n_arr)\n",
        "\n",
        "print(\"\\nReplace all elements of array which are less than 10 to Nan\")\n",
        "n_arr[n_arr < 10.] = np.nan\n",
        "\n",
        "print(\"New array :\\n\")\n",
        "print(n_arr)"
      ],
      "metadata": {
        "colab": {
          "base_uri": "https://localhost:8080/"
        },
        "id": "hPWkEVD1ctPD",
        "outputId": "7fac49f0-28ee-4c1f-c291-aa9fdf3bf69c"
      },
      "execution_count": null,
      "outputs": [
        {
          "output_type": "stream",
          "name": "stdout",
          "text": [
            "Given array:\n",
            "[[[11.  25.  70. ]\n",
            "  [30.  45.  55. ]\n",
            "  [20.  45.8  7.1]]\n",
            "\n",
            " [[50.  65.   8. ]\n",
            "  [70.  85.  10. ]\n",
            "  [11.  22.2 33.6]]\n",
            "\n",
            " [[19.  69.  36. ]\n",
            "  [ 1.   5.  24. ]\n",
            "  [ 4.9 20.8 96.7]]]\n",
            "\n",
            "Replace all elements of array which are less than 10 to Nan\n",
            "New array :\n",
            "\n",
            "[[[11.  25.  70. ]\n",
            "  [30.  45.  55. ]\n",
            "  [20.  45.8  nan]]\n",
            "\n",
            " [[50.  65.   nan]\n",
            "  [70.  85.  10. ]\n",
            "  [11.  22.2 33.6]]\n",
            "\n",
            " [[19.  69.  36. ]\n",
            "  [ nan  nan 24. ]\n",
            "  [ nan 20.8 96.7]]]\n"
          ]
        }
      ]
    },
    {
      "cell_type": "markdown",
      "source": [
        "**Method 2: Using numpy.where()**\n",
        "\n",
        "Example 1:"
      ],
      "metadata": {
        "id": "RvmKM-UAdNgR"
      }
    },
    {
      "cell_type": "code",
      "source": [
        "# Creating a 2-D Numpy array\n",
        "n_arr = np.array([[45, 52, 10],\n",
        "                  [1, 5, 25]])\n",
        "\n",
        "print(\"Given array:\")\n",
        "print(n_arr)\n",
        "\n",
        "print(\"\\nReplace all elements of array which are \\\n",
        "greater than or equal to 25 to 0\")\n",
        "\n",
        "print(\"else remains the same \")\n",
        "print(np.where(n_arr >= 25, 0, n_arr))"
      ],
      "metadata": {
        "colab": {
          "base_uri": "https://localhost:8080/"
        },
        "id": "bRJQaNK9dUW6",
        "outputId": "bed1203f-6c36-48cd-b73f-6e122d94e300"
      },
      "execution_count": null,
      "outputs": [
        {
          "output_type": "stream",
          "name": "stdout",
          "text": [
            "Given array:\n",
            "[[45 52 10]\n",
            " [ 1  5 25]]\n",
            "\n",
            "Replace all elements of array which are greater than or equal to 25 to 0\n",
            "else remains the same \n",
            "[[ 0  0 10]\n",
            " [ 1  5  0]]\n"
          ]
        }
      ]
    },
    {
      "cell_type": "markdown",
      "source": [
        "Example 2:"
      ],
      "metadata": {
        "id": "dQiqmbCMddpz"
      }
    },
    {
      "cell_type": "code",
      "source": [
        "# Creating a 2-D Numpy array\n",
        "n_arr = np.array([[45, 52, 10],\n",
        "                  [1, 5, 25],\n",
        "                  [50, 40, 81]])\n",
        "\n",
        "print(\"Given array:\")\n",
        "print(n_arr)\n",
        "\n",
        "print(\"\\nReplace all elements of array which are \\\n",
        "less than or equal to 25 with Nan\")\n",
        "\n",
        "print(\"else with 1 \")\n",
        "print(np.where(n_arr <= 25, np.nan, 1))"
      ],
      "metadata": {
        "colab": {
          "base_uri": "https://localhost:8080/"
        },
        "id": "81TaZT-Hdfhg",
        "outputId": "ac047e99-4359-4c3a-9351-fd766a9aa61c"
      },
      "execution_count": null,
      "outputs": [
        {
          "output_type": "stream",
          "name": "stdout",
          "text": [
            "Given array:\n",
            "[[45 52 10]\n",
            " [ 1  5 25]\n",
            " [50 40 81]]\n",
            "\n",
            "Replace all elements of array which are less than or equal to 25 with Nan\n",
            "else with 1 \n",
            "[[ 1.  1. nan]\n",
            " [nan nan nan]\n",
            " [ 1.  1.  1.]]\n"
          ]
        }
      ]
    },
    {
      "cell_type": "markdown",
      "source": [
        "5. Return the indices of elements where the given condition is satisfied\n",
        "\n",
        "###**np.where()** in Python\n",
        "\n",
        "Syntax:\n",
        "\n",
        "numpy.where(condition[, x, y])\n",
        "\n",
        "When True, yield x, otherwise yield y"
      ],
      "metadata": {
        "id": "dHT6dzM7i7o0"
      }
    },
    {
      "cell_type": "code",
      "source": [
        "arr = np.array([10, 15, 20, 25, 30])\n",
        "\n",
        "# Use np.where() to replace values based on condition\n",
        "# If the value is greater than 20, return 1, otherwise return 0\n",
        "result = np.where(arr > 20, 1, 0)\n",
        "\n",
        "print(result)"
      ],
      "metadata": {
        "colab": {
          "base_uri": "https://localhost:8080/"
        },
        "id": "yzpisxc1jQkb",
        "outputId": "1a62dd37-0772-4c11-8f00-9b05b9e37f50"
      },
      "execution_count": null,
      "outputs": [
        {
          "output_type": "stream",
          "name": "stdout",
          "text": [
            "[0 0 0 1 1]\n"
          ]
        }
      ]
    },
    {
      "cell_type": "markdown",
      "source": [
        "Example 2: In this example, for elements where the condition arr1 > 20 is true, the corresponding element from arr1 is chosen. Otherwise, the element from arr2 is selected."
      ],
      "metadata": {
        "id": "e6zn-n-qjgIy"
      }
    },
    {
      "cell_type": "code",
      "source": [
        "arr1 = np.array([10, 15, 20, 25, 30])\n",
        "arr2 = np.array([100, 150, 200, 250, 300])\n",
        "\n",
        "# Use np.where() to select elements from arr1 where the condition is true, and arr2 otherwise\n",
        "result = np.where(arr1 > 20, arr1, arr2)\n",
        "\n",
        "print(result)"
      ],
      "metadata": {
        "colab": {
          "base_uri": "https://localhost:8080/"
        },
        "id": "DPEbTM6LjiDc",
        "outputId": "34463f91-13ea-4729-8a81-ec77318dbed7"
      },
      "execution_count": null,
      "outputs": [
        {
          "output_type": "stream",
          "name": "stdout",
          "text": [
            "[100 150 200  25  30]\n"
          ]
        }
      ]
    },
    {
      "cell_type": "markdown",
      "source": [
        "6. How to access different rows of a multidimensional NumPy array?\n",
        "\n",
        "example: Accessing the First and Last row of a 2-D NumPy array"
      ],
      "metadata": {
        "id": "Hbi3u3dMjvFg"
      }
    },
    {
      "cell_type": "code",
      "source": [
        "arr = np.array([[10, 20, 30],\n",
        "                [40, 5, 66],\n",
        "                [70, 88, 94]])\n",
        "\n",
        "print(\"Given Array :\")\n",
        "print(arr)\n",
        "\n",
        "# Access the First and Last rows of array\n",
        "res_arr = arr[[0,2]]\n",
        "print(\"\\nAccessed Rows :\")\n",
        "print(res_arr)"
      ],
      "metadata": {
        "colab": {
          "base_uri": "https://localhost:8080/"
        },
        "id": "zj7MQMaCkMfH",
        "outputId": "42941bbb-952b-40f7-8c6d-f5fa30c585b6"
      },
      "execution_count": null,
      "outputs": [
        {
          "output_type": "stream",
          "name": "stdout",
          "text": [
            "Given Array :\n",
            "[[10 20 30]\n",
            " [40  5 66]\n",
            " [70 88 94]]\n",
            "\n",
            "Accessed Rows :\n",
            "[[10 20 30]\n",
            " [70 88 94]]\n"
          ]
        }
      ]
    },
    {
      "cell_type": "markdown",
      "source": [
        "## Mathematical Operations"
      ],
      "metadata": {
        "id": "avvnMH5Oa0S7"
      }
    },
    {
      "cell_type": "markdown",
      "source": [
        "###**1. Arithmetic Operations**\n",
        "(Element-wise, broadcasting supported)\n",
        "\n",
        "| Operation      | Function            | Example                         |\n",
        "| -------------- | ------------------- | ------------------------------- |\n",
        "| Addition       | `np.add(a, b)`      | `a + b`                         |\n",
        "| Subtraction    | `np.subtract(a, b)` | `a - b`                         |\n",
        "| Multiplication | `np.multiply(a, b)` | `a * b`                         |\n",
        "| Division       | `np.divide(a, b)`   | `a / b`                         |\n",
        "| Floor Division | `np.floor_divide()` | `a // b`                        |\n",
        "| Modulus        | `np.mod(a, b)`      | `a % b` or `np.remainder(a, b)` |\n",
        "| Power          | `np.power(a, b)`    | `a ** b`                        |\n",
        "\n",
        "\n",
        "###**2. Unary Operations**\n",
        "| Operation  | Function         | Description              |\n",
        "| ---------- | ---------------- | ------------------------ |\n",
        "| Negation   | `np.negative(a)` | `-a`                     |\n",
        "| Absolute   | `np.abs(a)`      | Absolute value           |\n",
        "| Rounding   | `np.round(a)`    | Round to nearest integer |\n",
        "| Floor      | `np.floor(a)`    | Round down               |\n",
        "| Ceil       | `np.ceil(a)`     | Round up                 |\n",
        "| Truncation | `np.trunc(a)`    | Drop decimal part        |\n",
        "\n",
        "\n",
        "###**3. Exponential & Logarithmic**\n",
        "\n",
        "| Operation   | Function      |\n",
        "| ----------- | ------------- |\n",
        "| Exponential | `np.exp(a)`   |\n",
        "| Natural log | `np.log(a)`   |\n",
        "| Log base 10 | `np.log10(a)` |\n",
        "| Log base 2  | `np.log2(a)`  |\n",
        "| Log(1 + x)  | `np.log1p(a)` |\n",
        "| exp(x) - 1  | `np.expm1(a)` |\n",
        "\n",
        "\n",
        "###**4. Trigonometric Functions**\n",
        "\n",
        "| Function         | Inverse/Other                   |\n",
        "| ---------------- | ------------------------------- |\n",
        "| `np.sin(x)`      | `np.arcsin(x)`                  |\n",
        "| `np.cos(x)`      | `np.arccos(x)`                  |\n",
        "| `np.tan(x)`      | `np.arctan(x)`                  |\n",
        "| `np.sinh(x)`     | `np.arcsinh(x)`                 |\n",
        "| `np.cosh(x)`     | `np.arccosh(x)`                 |\n",
        "| `np.tanh(x)`     | `np.arctanh(x)`                 |\n",
        "| Angle Conversion | `np.deg2rad()` / `np.rad2deg()` |\n",
        "\n",
        "\n",
        "###**5. Statistical Operations**\n",
        "\n",
        "| Operation     | Function                       |\n",
        "| ------------- | ------------------------------ |\n",
        "| Minimum       | `np.min(a)` or `a.min()`       |\n",
        "| Maximum       | `np.max(a)`                    |\n",
        "| Sum           | `np.sum(a)`                    |\n",
        "| Product       | `np.prod(a)`                   |\n",
        "| Mean          | `np.mean(a)`                   |\n",
        "| Median        | `np.median(a)`                 |\n",
        "| Standard Dev  | `np.std(a)`                    |\n",
        "| Variance      | `np.var(a)`                    |\n",
        "| Percentile    | `np.percentile(a, q)`          |\n",
        "| Argmin/Argmax | `np.argmin(a)`, `np.argmax(a)` |\n",
        "\n",
        "\n",
        "###**6. Linear Algebra Operations**\n",
        "\n",
        "| Operation       | Function                     |\n",
        "| --------------- | ---------------------------- |\n",
        "| Dot Product     | `np.dot(a, b)`               |\n",
        "| Matrix Multiply | `np.matmul(a, b)` or `a @ b` |\n",
        "| Transpose       | `a.T` or `np.transpose(a)`   |\n",
        "| Inverse         | `np.linalg.inv(a)`           |\n",
        "| Determinant     | `np.linalg.det(a)`           |\n",
        "| Eigenvalues     | `np.linalg.eig(a)`           |\n",
        "| Norm            | `np.linalg.norm(a)`          |\n",
        "| Solve Ax = B    | `np.linalg.solve(a, b)`      |\n",
        "\n",
        "\n",
        "###**7. Special Functions**\n",
        "\n",
        "| Function               | Use Case                           |\n",
        "| ---------------------- | ---------------------------------- |\n",
        "| `np.clip(a, min, max)` | Limit values between bounds        |\n",
        "| `np.cumsum(a)`         | Cumulative sum                     |\n",
        "| `np.cumprod(a)`        | Cumulative product                 |\n",
        "| `np.diff(a)`           | First difference (a\\[i+1] - a\\[i]) |\n",
        "| `np.unique(a)`         | Unique elements                    |\n"
      ],
      "metadata": {
        "id": "e22NAZ1MFPpX"
      }
    },
    {
      "cell_type": "markdown",
      "metadata": {
        "id": "nO53i6hOQ3JX"
      },
      "source": [
        "##Mathematical operations"
      ]
    },
    {
      "cell_type": "code",
      "execution_count": null,
      "metadata": {
        "id": "RcXJN0w5Qtep",
        "outputId": "86cb3872-cfa4-4d97-880b-64bcec17e125",
        "colab": {
          "base_uri": "https://localhost:8080/"
        }
      },
      "outputs": [
        {
          "output_type": "stream",
          "name": "stdout",
          "text": [
            "[[1 2]\n",
            " [3 4]]\n",
            "[[5 6]\n",
            " [7 8]]\n",
            "[[ 6  8]\n",
            " [10 12]]\n",
            "[[ 5 12]\n",
            " [21 32]]\n"
          ]
        }
      ],
      "source": [
        "#Element-wise operations\n",
        "\n",
        "A = np.array([[1, 2], [3, 4]])\n",
        "B = np.array([[5, 6], [7, 8]])\n",
        "print(A)\n",
        "print(B)\n",
        "print(A + B)  # Addition\n",
        "print(A * B)  # Element-wise multiplication\n"
      ]
    },
    {
      "cell_type": "markdown",
      "metadata": {
        "id": "3hWVuHzhlYNL"
      },
      "source": [
        "Matrix operations"
      ]
    },
    {
      "cell_type": "code",
      "execution_count": null,
      "metadata": {
        "id": "BneEVxk_iNHR",
        "outputId": "d7975b34-4056-4758-dfdf-c172e4cb9af0",
        "colab": {
          "base_uri": "https://localhost:8080/"
        }
      },
      "outputs": [
        {
          "output_type": "execute_result",
          "data": {
            "text/plain": [
              "array([[19, 22],\n",
              "       [43, 50]])"
            ]
          },
          "metadata": {},
          "execution_count": 37
        }
      ],
      "source": [
        "# dot product\n",
        "np.dot(A,B)"
      ]
    },
    {
      "cell_type": "code",
      "execution_count": null,
      "metadata": {
        "id": "GRKk3v8oiPS8",
        "outputId": "fbc5eb05-05d4-48b2-e113-1be398da84aa",
        "colab": {
          "base_uri": "https://localhost:8080/"
        }
      },
      "outputs": [
        {
          "output_type": "stream",
          "name": "stdout",
          "text": [
            "[[1 0 2]\n",
            " [0 2 3]]\n",
            "[[0 0 1]\n",
            " [2 1 0]]\n",
            "Cross Product:\n",
            " [[ 0 -1  0]\n",
            " [-3  6 -4]]\n"
          ]
        }
      ],
      "source": [
        "#cross product\n",
        "a= np.array([[1,0,2],[0,2,3]])\n",
        "b= np.array([[0,0,1],[2,1,0]])\n",
        "print(a)\n",
        "print(b)\n",
        "print('Cross Product:\\n',np.cross(a,b))"
      ]
    },
    {
      "cell_type": "code",
      "execution_count": null,
      "metadata": {
        "id": "8XlLDTh3icpN",
        "outputId": "3f43bd9d-ca9e-4863-83cb-4550f8fc1180",
        "colab": {
          "base_uri": "https://localhost:8080/"
        }
      },
      "outputs": [
        {
          "output_type": "execute_result",
          "data": {
            "text/plain": [
              "-2.0000000000000004"
            ]
          },
          "metadata": {},
          "execution_count": 39
        }
      ],
      "source": [
        "#determinant\n",
        "np.linalg.det(A)"
      ]
    },
    {
      "cell_type": "code",
      "execution_count": null,
      "metadata": {
        "id": "NN6mp6UWqaM5",
        "outputId": "18c499da-6f7a-4606-eaee-ae3f92040815",
        "colab": {
          "base_uri": "https://localhost:8080/"
        }
      },
      "outputs": [
        {
          "output_type": "execute_result",
          "data": {
            "text/plain": [
              "array([[1., 0., 0., 0.],\n",
              "       [0., 1., 0., 0.],\n",
              "       [0., 0., 1., 0.],\n",
              "       [0., 0., 0., 1.]])"
            ]
          },
          "metadata": {},
          "execution_count": 40
        }
      ],
      "source": [
        "np.identity(4)"
      ]
    },
    {
      "cell_type": "code",
      "execution_count": null,
      "metadata": {
        "id": "z6F9QRMrlysm",
        "outputId": "88d1e7eb-97b6-467a-de55-1ae95e15dec9",
        "colab": {
          "base_uri": "https://localhost:8080/"
        }
      },
      "outputs": [
        {
          "output_type": "stream",
          "name": "stdout",
          "text": [
            "[[1 2]\n",
            " [3 4]]\n",
            "[[5 6]\n",
            " [7 8]]\n"
          ]
        },
        {
          "output_type": "execute_result",
          "data": {
            "text/plain": [
              "array([[19, 22],\n",
              "       [43, 50]])"
            ]
          },
          "metadata": {},
          "execution_count": 41
        }
      ],
      "source": [
        "#matrix multiplication\n",
        "\n",
        "A = np.array([[1, 2], [3, 4]])\n",
        "B = np.array([[5, 6], [7, 8]])\n",
        "print(A)\n",
        "print(B)\n",
        "\n",
        "np.matmul(A,B)"
      ]
    },
    {
      "cell_type": "code",
      "execution_count": null,
      "metadata": {
        "id": "74NsTl4SYQU4",
        "outputId": "47c0b463-0149-4ad3-b10b-902842e06251",
        "colab": {
          "base_uri": "https://localhost:8080/"
        }
      },
      "outputs": [
        {
          "output_type": "execute_result",
          "data": {
            "text/plain": [
              "array([[1, 3],\n",
              "       [2, 4]])"
            ]
          },
          "metadata": {},
          "execution_count": 42
        }
      ],
      "source": [
        "#Transpose\n",
        "A = np.array([[1, 2], [3, 4]])\n",
        "np.transpose(A)\n"
      ]
    },
    {
      "cell_type": "markdown",
      "metadata": {
        "id": "sPNsB6zdOGT0"
      },
      "source": [
        "##Array Manipulation"
      ]
    },
    {
      "cell_type": "code",
      "execution_count": null,
      "metadata": {
        "id": "dbwr5FTwNB0w",
        "outputId": "2218da85-1f73-4404-9be6-5a307d7e8359",
        "colab": {
          "base_uri": "https://localhost:8080/"
        }
      },
      "outputs": [
        {
          "output_type": "execute_result",
          "data": {
            "text/plain": [
              "array([[1, 2, 7],\n",
              "       [3, 4, 8]])"
            ]
          },
          "metadata": {},
          "execution_count": 43
        }
      ],
      "source": [
        "np.append(A,[[7],[8]],axis=1)"
      ]
    },
    {
      "cell_type": "code",
      "execution_count": null,
      "metadata": {
        "id": "7rgVzuGONrJu",
        "outputId": "3d41f537-9264-45d2-d9ef-d5b2648916c9",
        "colab": {
          "base_uri": "https://localhost:8080/"
        }
      },
      "outputs": [
        {
          "output_type": "execute_result",
          "data": {
            "text/plain": [
              "array([1, 2, 3, 4, 7, 8])"
            ]
          },
          "metadata": {},
          "execution_count": 44
        }
      ],
      "source": [
        "np.append(A,[[7,8]])"
      ]
    },
    {
      "cell_type": "code",
      "execution_count": null,
      "metadata": {
        "id": "oNASOMcOOELL",
        "outputId": "daa391ff-0046-4320-9d56-8c052bd5da31",
        "colab": {
          "base_uri": "https://localhost:8080/"
        }
      },
      "outputs": [
        {
          "output_type": "execute_result",
          "data": {
            "text/plain": [
              "array([[1, 2]])"
            ]
          },
          "metadata": {},
          "execution_count": 45
        }
      ],
      "source": [
        "np.delete(A,1,axis=0) #axis=0 for rows, axis=1 for cols"
      ]
    },
    {
      "cell_type": "code",
      "execution_count": null,
      "metadata": {
        "id": "azUFNTLgUPKu",
        "outputId": "12c2a818-48e9-43b3-8a83-7d26b4daa6c4",
        "colab": {
          "base_uri": "https://localhost:8080/"
        }
      },
      "outputs": [
        {
          "output_type": "execute_result",
          "data": {
            "text/plain": [
              "array([[0., 0., 1., 0.],\n",
              "       [0., 0., 0., 1.],\n",
              "       [0., 0., 0., 0.],\n",
              "       [0., 0., 0., 0.]])"
            ]
          },
          "metadata": {},
          "execution_count": 46
        }
      ],
      "source": [
        "import numpy as np\n",
        "np.eye(4,k=2) #diagonal matrix, diagonal=1"
      ]
    },
    {
      "cell_type": "code",
      "execution_count": null,
      "metadata": {
        "id": "1bww1sDMUrvH",
        "outputId": "713e04d2-d261-464a-c92a-d005c132191a",
        "colab": {
          "base_uri": "https://localhost:8080/"
        }
      },
      "outputs": [
        {
          "output_type": "execute_result",
          "data": {
            "text/plain": [
              "array([[-2.5,  1.5],\n",
              "       [ 2. , -1. ]])"
            ]
          },
          "metadata": {},
          "execution_count": 47
        }
      ],
      "source": [
        "#Inverse of a matrix\n",
        "np.linalg.inv(np.array([[2,3],[4,5]]))"
      ]
    },
    {
      "cell_type": "markdown",
      "metadata": {
        "id": "-OO4TqTYPcyi"
      },
      "source": [
        "##Matrix Decomposition"
      ]
    },
    {
      "cell_type": "markdown",
      "metadata": {
        "id": "lsTtZgi4QCV1"
      },
      "source": [
        " **LU decomposition** factors a matrix ```A``` into the product of a lower triangular matrix ```L``` and an upper triangular matrix ```U```. If ```A``` is a square matrix, it can be expressed as:\n",
        "\n",
        "\n",
        "$PA=LU$"
      ]
    },
    {
      "cell_type": "code",
      "execution_count": null,
      "metadata": {
        "id": "OAIn4tjtOmbS",
        "outputId": "7fc5c634-4d59-49b1-e110-d7224cc2e90c",
        "colab": {
          "base_uri": "https://localhost:8080/"
        }
      },
      "outputs": [
        {
          "output_type": "stream",
          "name": "stdout",
          "text": [
            "[[1 2]\n",
            " [3 4]]\n",
            "[[0. 1.]\n",
            " [1. 0.]]\n",
            "[[1.         0.        ]\n",
            " [0.33333333 1.        ]]\n",
            "[[3.         4.        ]\n",
            " [0.         0.66666667]]\n"
          ]
        }
      ],
      "source": [
        "#LU decomposition\n",
        "print(A)\n",
        "from scipy.linalg import lu\n",
        "P,L,U= lu(A)\n",
        "print(P,L,U,sep=\"\\n\")"
      ]
    },
    {
      "cell_type": "code",
      "execution_count": null,
      "metadata": {
        "id": "DBJ3pEejPv2a",
        "outputId": "3692fb5c-cca4-4617-d4f4-d741f62d587b",
        "colab": {
          "base_uri": "https://localhost:8080/"
        }
      },
      "outputs": [
        {
          "output_type": "execute_result",
          "data": {
            "text/plain": [
              "array([[3., 4.],\n",
              "       [1., 2.]])"
            ]
          },
          "metadata": {},
          "execution_count": 49
        }
      ],
      "source": [
        "np.matmul(P,A)"
      ]
    },
    {
      "cell_type": "code",
      "execution_count": null,
      "metadata": {
        "id": "IEnMdoVERJkr",
        "outputId": "ae24a1fb-d3b0-4c91-eb51-fdf7b5e75801",
        "colab": {
          "base_uri": "https://localhost:8080/"
        }
      },
      "outputs": [
        {
          "output_type": "execute_result",
          "data": {
            "text/plain": [
              "array([[3., 4.],\n",
              "       [1., 2.]])"
            ]
          },
          "metadata": {},
          "execution_count": 50
        }
      ],
      "source": [
        "np.matmul(L,U)"
      ]
    },
    {
      "cell_type": "markdown",
      "metadata": {
        "id": "BANUvQrWSYAN"
      },
      "source": [
        "**QR decomposition** expresses a matrix ```A``` as the product of an orthogonal matrix ```Q``` ($Q^T . Q=I$)and an upper triangular matrix ```R```:\n",
        "\n",
        "$A= QR$"
      ]
    },
    {
      "cell_type": "code",
      "execution_count": null,
      "metadata": {
        "id": "U20ftZQrRLYQ",
        "outputId": "69f6cea4-1e17-4b47-ecb2-38aff9e0d122",
        "colab": {
          "base_uri": "https://localhost:8080/"
        }
      },
      "outputs": [
        {
          "output_type": "stream",
          "name": "stdout",
          "text": [
            "[[-0.31622777 -0.9486833 ]\n",
            " [-0.9486833   0.31622777]]\n",
            "[[-3.16227766 -4.42718872]\n",
            " [ 0.         -0.63245553]]\n"
          ]
        }
      ],
      "source": [
        "q,r= np.linalg.qr(A)\n",
        "print(q,r,sep=\"\\n\")"
      ]
    },
    {
      "cell_type": "code",
      "execution_count": null,
      "metadata": {
        "id": "_yhUOFPvSx5m",
        "outputId": "38f6f99b-f8ae-4819-da17-2d6cd27a77dd",
        "colab": {
          "base_uri": "https://localhost:8080/"
        }
      },
      "outputs": [
        {
          "output_type": "execute_result",
          "data": {
            "text/plain": [
              "array([[1., 2.],\n",
              "       [3., 4.]])"
            ]
          },
          "metadata": {},
          "execution_count": 52
        }
      ],
      "source": [
        "np.matmul(q,r)"
      ]
    },
    {
      "cell_type": "markdown",
      "metadata": {
        "id": "ekyMM74CS_f8"
      },
      "source": [
        "**Singular Value Decomposition** SVD decomposes a matrix ```A``` into three matrices: ```U``` (orthogonal), ```S``` (diagonal with singular values), and $V^T$ (transpose of an orthogonal matrix):\n",
        "\n",
        "$A= USV^T$\n",
        "\n",
        "$U$= m × m matrix of left singular vectors (orthogonal columns).\n",
        "\n",
        "$S$= diagonal matrix of singular values (non-negative real numbers), sorted in descending order.\n",
        "\n",
        "$V^T$ = transpose of an n x n matrix $V$ of right singular vectors (orthogonal columns).\n",
        "\n",
        "For a 2X2 matrix:\n",
        "\n",
        "$U=$\n",
        "\\begin{bmatrix} u_{11} & u_{12} \\\\ u_{21} & u_{22} \\end{bmatrix}\n",
        "$S=$\n",
        "\n",
        "\\begin{bmatrix} \\sigma_1 & 0 \\\\ 0 & \\sigma_2 \\end{bmatrix}\n",
        "$V=$\n",
        "\n",
        "\\begin{bmatrix} v_{11} & v_{12} \\\\ v_{21} & v_{22} \\end{bmatrix}\n"
      ]
    },
    {
      "cell_type": "code",
      "execution_count": null,
      "metadata": {
        "id": "cvryiYlGS3pG",
        "outputId": "08e55982-e8ec-48aa-95c5-d18bdf0ab692",
        "colab": {
          "base_uri": "https://localhost:8080/"
        }
      },
      "outputs": [
        {
          "output_type": "stream",
          "name": "stdout",
          "text": [
            "[[-0.40455358 -0.9145143 ]\n",
            " [-0.9145143   0.40455358]]\n",
            "[5.4649857  0.36596619]\n",
            "[[-0.57604844 -0.81741556]\n",
            " [ 0.81741556 -0.57604844]]\n"
          ]
        }
      ],
      "source": [
        "U,S,Vt= np.linalg.svd(A)\n",
        "print(U,S,Vt,sep=\"\\n\")"
      ]
    },
    {
      "cell_type": "code",
      "execution_count": null,
      "metadata": {
        "id": "OXZ7ZtUqThtR",
        "outputId": "c8ee2959-802a-4ecb-f7ec-b551c4ae1ae8",
        "colab": {
          "base_uri": "https://localhost:8080/"
        }
      },
      "outputs": [
        {
          "output_type": "stream",
          "name": "stdout",
          "text": [
            "[[5.4649857  0.        ]\n",
            " [0.         0.36596619]]\n",
            "Reconstructed array \n",
            "[[1. 2.]\n",
            " [3. 4.]]\n"
          ]
        }
      ],
      "source": [
        "sigma=np.zeros((U.shape[0],Vt.shape[0]))\n",
        "np.fill_diagonal(sigma,S)\n",
        "print(sigma)\n",
        "recon_A= np.matmul(U,np.matmul(sigma,Vt))\n",
        "print(f'Reconstructed array \\n{recon_A}')\n",
        "#np.allclose(recon_A,A)"
      ]
    },
    {
      "cell_type": "code",
      "execution_count": null,
      "metadata": {
        "id": "qH-8TVfKdljd",
        "outputId": "179c8488-707c-4532-e733-da7aa1d4ed25",
        "colab": {
          "base_uri": "https://localhost:8080/"
        }
      },
      "outputs": [
        {
          "output_type": "execute_result",
          "data": {
            "text/plain": [
              "array([[1., 2.],\n",
              "       [3., 4.]])"
            ]
          },
          "metadata": {},
          "execution_count": 55
        }
      ],
      "source": [
        "U@(sigma@Vt)"
      ]
    },
    {
      "cell_type": "markdown",
      "metadata": {
        "id": "12Zix1GLXESq"
      },
      "source": [
        "**Cholesky decomposition** is applicable to positive definite matrices (eigen values are positive) and factors it into a lower triangular matrix```L``` and its conjugate transpose $L^T$:\n",
        "\n",
        "$A= LL^T$\n"
      ]
    },
    {
      "cell_type": "code",
      "execution_count": null,
      "metadata": {
        "id": "lzvWMgqLXQOX",
        "outputId": "65b1f7e1-b6e7-474c-979c-f92064986532",
        "colab": {
          "base_uri": "https://localhost:8080/"
        }
      },
      "outputs": [
        {
          "output_type": "stream",
          "name": "stdout",
          "text": [
            "[[1.         0.         0.        ]\n",
            " [0.         1.41421356 0.        ]\n",
            " [0.         0.         1.73205081]]\n"
          ]
        }
      ],
      "source": [
        "A=np.diag([1,2,3])\n",
        "L=np.linalg.cholesky(A)\n",
        "print(L)"
      ]
    },
    {
      "cell_type": "code",
      "execution_count": null,
      "metadata": {
        "id": "rnmtLEGPXZfD",
        "outputId": "b707e20d-f5b4-4af1-c364-1a732c94eb44",
        "colab": {
          "base_uri": "https://localhost:8080/"
        }
      },
      "outputs": [
        {
          "output_type": "execute_result",
          "data": {
            "text/plain": [
              "array([[1., 0., 0.],\n",
              "       [0., 2., 0.],\n",
              "       [0., 0., 3.]])"
            ]
          },
          "metadata": {},
          "execution_count": 57
        }
      ],
      "source": [
        "np.matmul(L,np.transpose(L))"
      ]
    },
    {
      "cell_type": "markdown",
      "metadata": {
        "id": "QS4RxHDMsnlG"
      },
      "source": [
        "**Eigen values and Eigen vectors**\n",
        "\n",
        "For a given square matrix $A$, an eigenvector\n",
        "$𝑣$ is a non-zero vector that, when multiplied by\n",
        "$𝐴$, results in a new vector that points in the same direction as $𝑣$ (it might be stretched or flipped but keeps the same line of action). Mathematically:\n",
        "\n",
        "\n",
        "$Av=λv$\n",
        "\n",
        "$v$ is the eigenvector.\n",
        "\n",
        "$𝜆$ is the eigenvalue associated with $𝑣$"
      ]
    },
    {
      "cell_type": "code",
      "execution_count": null,
      "metadata": {
        "id": "ZVqljLZx3FmO",
        "outputId": "e526e374-3f92-4d22-dafa-f87f2e2db3e8",
        "colab": {
          "base_uri": "https://localhost:8080/"
        }
      },
      "outputs": [
        {
          "output_type": "stream",
          "name": "stdout",
          "text": [
            "[3. 1.]\n",
            "[[ 0.70710678 -0.70710678]\n",
            " [ 0.70710678  0.70710678]]\n"
          ]
        }
      ],
      "source": [
        "A = np.array([[2, 1], [1, 2]])\n",
        "\n",
        "# Calculate eigenvalues and eigenvectors\n",
        "eigenvalues, eigenvectors = np.linalg.eig(A)\n",
        "print(eigenvalues)\n",
        "print(eigenvectors)"
      ]
    },
    {
      "cell_type": "code",
      "execution_count": null,
      "metadata": {
        "id": "ZmmT7knJ3scI",
        "outputId": "3a00b338-1dc1-429d-e2e2-ace68f4dca97",
        "colab": {
          "base_uri": "https://localhost:8080/"
        }
      },
      "outputs": [
        {
          "output_type": "execute_result",
          "data": {
            "text/plain": [
              "array([[ 2.12132034, -0.70710678],\n",
              "       [ 2.12132034,  0.70710678]])"
            ]
          },
          "metadata": {},
          "execution_count": 59
        }
      ],
      "source": [
        "A@eigenvectors"
      ]
    },
    {
      "cell_type": "code",
      "execution_count": null,
      "metadata": {
        "id": "TWY8MBOR3xi6",
        "outputId": "af1772a9-b089-4ca4-849e-93c7c002f6cf",
        "colab": {
          "base_uri": "https://localhost:8080/"
        }
      },
      "outputs": [
        {
          "output_type": "execute_result",
          "data": {
            "text/plain": [
              "array([[ 2.12132034, -0.70710678],\n",
              "       [ 2.12132034,  0.70710678]])"
            ]
          },
          "metadata": {},
          "execution_count": 60
        }
      ],
      "source": [
        "eigenvalues*eigenvectors"
      ]
    },
    {
      "cell_type": "code",
      "source": [],
      "metadata": {
        "id": "50E9-nTJaPIx"
      },
      "execution_count": null,
      "outputs": []
    },
    {
      "cell_type": "markdown",
      "source": [
        "2. Given a 2D NumPy array A of shape (3, 3) and a 1D array b of shape (3,), add the 1D array to each row of the 2D array using broadcasting."
      ],
      "metadata": {
        "id": "4nYqtKdAiNfk"
      }
    },
    {
      "cell_type": "code",
      "execution_count": null,
      "metadata": {
        "colab": {
          "base_uri": "https://localhost:8080/"
        },
        "id": "ga6j5KcQgKMY",
        "outputId": "ff4b1fda-266a-4030-beca-e46f12a2709d"
      },
      "outputs": [
        {
          "output_type": "stream",
          "name": "stdout",
          "text": [
            "(3,)\n",
            "(3, 3)\n",
            "\n",
            "\n",
            "[[ 7  9 11]\n",
            " [ 2  4  6]\n",
            " [ 5  7  9]]\n"
          ]
        }
      ],
      "source": [
        "import numpy as np\n",
        "arr1 = np.array([1,2,3])\n",
        "print(np.shape(arr1))\n",
        "arr2 = np.array([[6,7,8], [1,2,3], [4,5,6]])\n",
        "print(np.shape(arr2))\n",
        "print(\"\\n\")\n",
        "sum = arr1 + arr2\n",
        "print(sum)"
      ]
    },
    {
      "cell_type": "markdown",
      "source": [
        "3. Given a 1D NumPy array arr, replace all negative values in the array with 0."
      ],
      "metadata": {
        "id": "gkMsBlabh_q_"
      }
    },
    {
      "cell_type": "code",
      "source": [
        "arr = np.array([1,2,3,-4,-5,-1,2,-1])\n",
        "arr[arr < 0] = 0\n",
        "print(arr)"
      ],
      "metadata": {
        "colab": {
          "base_uri": "https://localhost:8080/"
        },
        "id": "DyocIPSRhGzh",
        "outputId": "07f9152e-42cb-433c-d54b-32aaaca996c7"
      },
      "execution_count": null,
      "outputs": [
        {
          "output_type": "stream",
          "name": "stdout",
          "text": [
            "[1 2 3 0 0 0 2 0]\n"
          ]
        }
      ]
    },
    {
      "cell_type": "markdown",
      "source": [
        "4. Given a 2D NumPy array, compute the sum of elements that are greater than a given value and less than another value. Implement this using loops and conditions."
      ],
      "metadata": {
        "id": "-49fDmNsiCrz"
      }
    },
    {
      "cell_type": "code",
      "source": [
        "import numpy as np\n",
        "\n",
        "# Example 2D array\n",
        "arr = np.array([[5, 12, 7],\n",
        "                [3, 18, 10],\n",
        "                [20, 6, 1]])\n",
        "\n",
        "# Set your range limits\n",
        "lower = 5\n",
        "upper = 15\n",
        "\n",
        "# Initialize sum\n",
        "total = 0\n",
        "\n",
        "# Loop through the array using indices\n",
        "for i in range(len(arr)):\n",
        "    for j in range(len(arr[i])):\n",
        "        if lower < arr[i][j] < upper:\n",
        "            total += arr[i][j]\n",
        "\n",
        "print(\"Sum of elements between\", lower, \"and\", upper, \":\", total)"
      ],
      "metadata": {
        "colab": {
          "base_uri": "https://localhost:8080/"
        },
        "id": "Kzm2LAaWiJ5k",
        "outputId": "c1652448-c01e-43d0-a13d-4a979cf8f129"
      },
      "execution_count": null,
      "outputs": [
        {
          "output_type": "stream",
          "name": "stdout",
          "text": [
            "Sum of elements between 5 and 15 : 35\n"
          ]
        }
      ]
    },
    {
      "cell_type": "markdown",
      "source": [
        "Method 2:"
      ],
      "metadata": {
        "id": "lL_YWFhGjVb2"
      }
    },
    {
      "cell_type": "code",
      "source": [
        "arr = np.array([[5, 12, 7],\n",
        "                [3, 18, 10],\n",
        "                [20, 6, 1]])\n",
        "lower = 7\n",
        "upper = 20\n",
        "sum = 0\n",
        "for i in arr:\n",
        "  for j in i:\n",
        "\n",
        "    if lower < j < upper:\n",
        "      sum+=j\n",
        "\n",
        "print(\"Sum of elements between\", lower, \"and\", upper, \":\", sum)"
      ],
      "metadata": {
        "colab": {
          "base_uri": "https://localhost:8080/"
        },
        "id": "LxbxcTcNk45Y",
        "outputId": "f290efa1-f59e-4fbf-907f-b5c4d5a778cf"
      },
      "execution_count": null,
      "outputs": [
        {
          "output_type": "stream",
          "name": "stdout",
          "text": [
            "Sum of elements between 7 and 20 : 40\n"
          ]
        }
      ]
    },
    {
      "cell_type": "markdown",
      "source": [
        "##NumPy array slicing\n",
        "\n",
        "| Feature     | View                              | Copy                                |\n",
        "| ----------- | --------------------------------- | ----------------------------------- |\n",
        "| Memory      | Shared with original              | Separate from original              |\n",
        "| Performance | Faster, but changes affect source | Safer, but uses more memory         |\n",
        "| When to Use | For fast slicing without changes  | When original data shouldn't change |\n"
      ],
      "metadata": {
        "id": "T5DIOHZFjwWM"
      }
    },
    {
      "cell_type": "code",
      "source": [
        "arr = np.array([1,2,3,4,5,6])\n",
        "view = arr[:4]\n",
        "view[0] = 100\n",
        "print(view)\n",
        "print(arr)\n",
        "\n",
        "copy = arr[:5].copy()\n",
        "copy[0] = 200\n",
        "print(copy)"
      ],
      "metadata": {
        "colab": {
          "base_uri": "https://localhost:8080/"
        },
        "id": "GIqrVS_Xdqk2",
        "outputId": "8cfa1481-d94f-4682-bb0c-2e7c10f38ee8"
      },
      "execution_count": null,
      "outputs": [
        {
          "output_type": "stream",
          "name": "stdout",
          "text": [
            "[100   2   3   4]\n",
            "[100   2   3   4   5   6]\n",
            "[200   2   3   4   5]\n"
          ]
        }
      ]
    },
    {
      "cell_type": "code",
      "source": [
        "matrix = np.array([[1,2,3],[4,5,6]])\n",
        "slice_view = matrix[:, :2] #View\n",
        "slice_view[0, 0] = 999\n",
        "print(\"Changed Matrix: \\n\",matrix)\n",
        "print(\"\\n\")\n",
        "matrix_copy = matrix[:, :2].copy()\n",
        "matrix_copy[1, 0] = 888\n",
        "print(\"Unchanged Matrix: \\n\", matrix)"
      ],
      "metadata": {
        "colab": {
          "base_uri": "https://localhost:8080/"
        },
        "id": "L6wW3OWiepXh",
        "outputId": "238415df-468d-4fc6-f3ad-e92be8921b62"
      },
      "execution_count": null,
      "outputs": [
        {
          "output_type": "stream",
          "name": "stdout",
          "text": [
            "Changed Matrix: \n",
            " [[999   2   3]\n",
            " [  4   5   6]]\n",
            "\n",
            "\n",
            "Unchanged Matrix: \n",
            " [[999   2   3]\n",
            " [  4   5   6]]\n"
          ]
        }
      ]
    },
    {
      "cell_type": "markdown",
      "source": [
        "#**Fancy Indexing**\n",
        "\n",
        "Fancy indexing means using arrays (or lists) of indices to access or modify elements in a NumPy array. It’s more powerful and flexible than basic slicing."
      ],
      "metadata": {
        "id": "Mtgry5-_fxMy"
      }
    },
    {
      "cell_type": "markdown",
      "source": [
        "###**1. Using List/Array of Indices**"
      ],
      "metadata": {
        "id": "C7e4eznCgGKN"
      }
    },
    {
      "cell_type": "code",
      "source": [
        "arr = np.array([10, 20, 30, 40, 50])\n",
        "indices = [1, 3, 4]\n",
        "\n",
        "# Select elements at positions 1, 3, and 4\n",
        "print(arr[indices])"
      ],
      "metadata": {
        "colab": {
          "base_uri": "https://localhost:8080/"
        },
        "id": "_bd_gCaqf06r",
        "outputId": "256fb248-ef3c-4088-a3d6-a5a364e46b8a"
      },
      "execution_count": null,
      "outputs": [
        {
          "output_type": "stream",
          "name": "stdout",
          "text": [
            "[20 40 50]\n"
          ]
        }
      ]
    },
    {
      "cell_type": "markdown",
      "source": [
        "###**2. Fancy Indexing in 2D Arrays**"
      ],
      "metadata": {
        "id": "D4IAgYKxgL3f"
      }
    },
    {
      "cell_type": "code",
      "source": [
        "a = np.array([[10, 11, 12],\n",
        "              [20, 21, 22],\n",
        "              [30, 31, 32]])\n",
        "\n",
        "# Select [10, 21, 32] using row and column index pairs\n",
        "rows = [0, 1, 2]\n",
        "cols = [0, 1, 2]\n",
        "\n",
        "print(a[rows, cols])"
      ],
      "metadata": {
        "colab": {
          "base_uri": "https://localhost:8080/"
        },
        "id": "x_t1hccBgUS8",
        "outputId": "01bba560-836f-4d39-d699-17d75248131c"
      },
      "execution_count": null,
      "outputs": [
        {
          "output_type": "stream",
          "name": "stdout",
          "text": [
            "[10 21 32]\n"
          ]
        }
      ]
    },
    {
      "cell_type": "markdown",
      "source": [
        "###**3. Selecting with Boolean Arrays (Boolean Masking)**"
      ],
      "metadata": {
        "id": "6_14uTplhRz9"
      }
    },
    {
      "cell_type": "code",
      "source": [
        "arr = np.array([5, 10, 15, 20, 25])\n",
        "\n",
        "# Select elements greater than 15\n",
        "mask = arr > 15  #[False, False, False, True, True]\n",
        "print(arr[mask])"
      ],
      "metadata": {
        "colab": {
          "base_uri": "https://localhost:8080/"
        },
        "id": "omMYGM3ShYKw",
        "outputId": "fcb6abb4-ac1c-40fb-a458-8a984cf7f238"
      },
      "execution_count": null,
      "outputs": [
        {
          "output_type": "stream",
          "name": "stdout",
          "text": [
            "[20 25]\n"
          ]
        }
      ]
    },
    {
      "cell_type": "markdown",
      "source": [
        "###**4. Using np.ix_() for Grid Indexing**"
      ],
      "metadata": {
        "id": "rZ_BYj9xhYkc"
      }
    },
    {
      "cell_type": "code",
      "source": [
        "a = np.array([[1, 2, 3],\n",
        "              [4, 5, 6],\n",
        "              [7, 8, 9]])\n",
        "\n",
        "rows = [0, 2]\n",
        "cols = [1, 2]\n",
        "\n",
        "# Get the cross-product elements using np.ix_\n",
        "print(a[np.ix_(rows, cols)])"
      ],
      "metadata": {
        "colab": {
          "base_uri": "https://localhost:8080/"
        },
        "id": "dgT10mxIhsic",
        "outputId": "8ef9387d-efdf-487e-8776-a83048f429e0"
      },
      "execution_count": null,
      "outputs": [
        {
          "output_type": "stream",
          "name": "stdout",
          "text": [
            "[[2 3]\n",
            " [8 9]]\n"
          ]
        }
      ]
    },
    {
      "cell_type": "markdown",
      "source": [
        "###**5. Modifying Elements with Fancy Indexing**"
      ],
      "metadata": {
        "id": "02eLFLnshtSl"
      }
    },
    {
      "cell_type": "code",
      "source": [
        "arr = np.array([10, 20, 30, 40, 50])\n",
        "arr[[0, 2, 4]] = -1\n",
        "print(arr)"
      ],
      "metadata": {
        "colab": {
          "base_uri": "https://localhost:8080/"
        },
        "id": "Fnekw357h4ig",
        "outputId": "6c6cd39a-1cdc-47e7-ae47-9de6680c55cd"
      },
      "execution_count": null,
      "outputs": [
        {
          "output_type": "stream",
          "name": "stdout",
          "text": [
            "[-1 20 -1 40 -1]\n"
          ]
        }
      ]
    },
    {
      "cell_type": "markdown",
      "source": [
        "##Aggregate Functions in NumPy\n",
        "\n",
        "In NumPy, aggregate functions (also called reduction operations) perform a summary operation on an array’s elements and reduce them to a single value or along a specified axis.\n",
        "\n",
        "Axis Reference:\n",
        "* `axis=0`: operation along columns\n",
        "* `axis=1`: operation along rows"
      ],
      "metadata": {
        "id": "po2Gjx04odAC"
      }
    },
    {
      "cell_type": "markdown",
      "source": [
        "####**1. np.sum() – Sum of elements**\n",
        "\n",
        "Syntax: `np.sum(array, axis=None)`"
      ],
      "metadata": {
        "id": "PVVhqT8So-gu"
      }
    },
    {
      "cell_type": "code",
      "source": [
        "import numpy as np\n",
        "\n",
        "a = np.array([[1, 2], [3, 4]])\n",
        "np.sum(a)           # Output: 10\n",
        "np.sum(a, axis=0)   # Output: [4 6] → column-wise\n",
        "np.sum(a, axis=1)   # Output: [3 7] → row-wise"
      ],
      "metadata": {
        "colab": {
          "base_uri": "https://localhost:8080/"
        },
        "id": "XnUEiBHOpJOa",
        "outputId": "cd9139c3-f56e-4ec0-d210-31741f5ce2d9"
      },
      "execution_count": null,
      "outputs": [
        {
          "output_type": "execute_result",
          "data": {
            "text/plain": [
              "array([3, 7])"
            ]
          },
          "metadata": {},
          "execution_count": 2
        }
      ]
    },
    {
      "cell_type": "markdown",
      "source": [
        "####**2. np.mean() – Mean (Average)**\n",
        "\n",
        "Syntax: `np.sum(array, axis=None)`"
      ],
      "metadata": {
        "id": "vvy2rH2zpOW9"
      }
    },
    {
      "cell_type": "code",
      "source": [
        "np.mean(a)          # Output: 2.5\n",
        "np.mean(a, axis=0)  # Output: [2. 3.]"
      ],
      "metadata": {
        "id": "ygA9Z_R6pUYW"
      },
      "execution_count": null,
      "outputs": []
    },
    {
      "cell_type": "markdown",
      "source": [
        "####**3. np.median() – Median value**\n",
        "\n",
        "Syntax: `np.median(array, axis=None)`"
      ],
      "metadata": {
        "id": "5rI9duOTrUA4"
      }
    },
    {
      "cell_type": "code",
      "source": [
        "np.median(a)"
      ],
      "metadata": {
        "colab": {
          "base_uri": "https://localhost:8080/"
        },
        "id": "WQKNHGbQrcN5",
        "outputId": "d6a9dc11-7cac-44e8-e15a-f2513a89fcbc"
      },
      "execution_count": null,
      "outputs": [
        {
          "output_type": "execute_result",
          "data": {
            "text/plain": [
              "np.float64(2.5)"
            ]
          },
          "metadata": {},
          "execution_count": 24
        }
      ]
    },
    {
      "cell_type": "markdown",
      "source": [
        "####**4. np.std() – Standard deviation**\n",
        "\n",
        "Syntax: `np.std(array, axis=None)`"
      ],
      "metadata": {
        "id": "qeZYJ0-2rjNB"
      }
    },
    {
      "cell_type": "code",
      "source": [
        "np.std(a)           # Output: 1.118..."
      ],
      "metadata": {
        "id": "VlYHzUJBr-Cl"
      },
      "execution_count": null,
      "outputs": []
    },
    {
      "cell_type": "markdown",
      "source": [
        "####**np.var() – Variance**\n",
        "\n",
        "Syntax: `np.var(array, axis=None)`\n"
      ],
      "metadata": {
        "id": "_HLjMUq7sBEv"
      }
    },
    {
      "cell_type": "code",
      "source": [
        "np.var(a)           # Output: 1.25"
      ],
      "metadata": {
        "id": "9iOQtnpUsO5e"
      },
      "execution_count": null,
      "outputs": []
    },
    {
      "cell_type": "markdown",
      "source": [
        "####**6. np.min() – Minimum value**\n",
        "####**7. np.max() – Maximum value**\n",
        "Syntax: `np.min(array, axis=None)`"
      ],
      "metadata": {
        "id": "AOw4QqKZsWgF"
      }
    },
    {
      "cell_type": "code",
      "source": [
        "np.min(a)           # Output: 1\n",
        "np.max(a)           # Output: 4"
      ],
      "metadata": {
        "id": "SMorgrbesqlM"
      },
      "execution_count": null,
      "outputs": []
    },
    {
      "cell_type": "markdown",
      "source": [
        "####**8. np.argmin() / np.argmax() – Index of min/max value**"
      ],
      "metadata": {
        "id": "4i21zdIisrzk"
      }
    },
    {
      "cell_type": "code",
      "source": [
        "np.argmin(a)        # Output: 0\n",
        "np.argmax(a)        # Output: 3"
      ],
      "metadata": {
        "id": "WAA6hnCTs06M"
      },
      "execution_count": null,
      "outputs": []
    },
    {
      "cell_type": "markdown",
      "source": [
        "####**9. np.prod() – Product of all elements**"
      ],
      "metadata": {
        "id": "Vk8u8Yj5s4Y0"
      }
    },
    {
      "cell_type": "code",
      "source": [
        "np.prod(a)          # Output: 24 (1*2*3*4)"
      ],
      "metadata": {
        "id": "pbJkdUIvs8GO"
      },
      "execution_count": null,
      "outputs": []
    },
    {
      "cell_type": "markdown",
      "source": [
        "####**10. np.cumsum() / np.cumprod() – Cumulative sum/product**"
      ],
      "metadata": {
        "id": "10einFOus_2L"
      }
    },
    {
      "cell_type": "code",
      "source": [
        "np.cumsum(a)        # Output: [ 1  3  6 10]\n",
        "np.cumprod(a)       # Output: [ 1  2  6 24]"
      ],
      "metadata": {
        "id": "lemOC7qAtGKT"
      },
      "execution_count": null,
      "outputs": []
    },
    {
      "cell_type": "markdown",
      "source": [
        "Given a 4×4 matrix of integers, extract all elements greater than 50."
      ],
      "metadata": {
        "id": "cpYKAy8Yne5p"
      }
    },
    {
      "cell_type": "code",
      "source": [
        "arr = np.arange(45, 61)\n",
        "newarr = arr.reshape(4,4)\n",
        "print(newarr)\n",
        "print(\"\\n\")\n",
        "mask = newarr > 50\n",
        "print(newarr[mask])"
      ],
      "metadata": {
        "colab": {
          "base_uri": "https://localhost:8080/"
        },
        "id": "cgKtl_pFlzCY",
        "outputId": "abd52156-f88f-4957-c52f-92a9321dd43e"
      },
      "execution_count": null,
      "outputs": [
        {
          "output_type": "stream",
          "name": "stdout",
          "text": [
            "[[45 46 47 48]\n",
            " [49 50 51 52]\n",
            " [53 54 55 56]\n",
            " [57 58 59 60]]\n",
            "\n",
            "\n",
            "[51 52 53 54 55 56 57 58 59 60]\n"
          ]
        }
      ]
    },
    {
      "cell_type": "markdown",
      "source": [
        "Given a dataset of people [age, salary, score], keep only rows where salary (column 1) > 50,000."
      ],
      "metadata": {
        "id": "nhlTMwTxl9lv"
      }
    },
    {
      "cell_type": "code",
      "source": [
        "import numpy as np\n",
        "\n",
        "# Sample dataset: [age, salary, score]\n",
        "data = np.array([\n",
        "    [25, 48000, 85],\n",
        "    [30, 52000, 90],\n",
        "    [22, 60000, 70],\n",
        "    [28, 45000, 88],\n",
        "    [35, 75000, 95]\n",
        "])\n",
        "\n",
        "# Create a mask for salary > 50000 (column 1)\n",
        "mask = data[:, 1] > 50000  # shape: (5,)\n",
        "\n",
        "# Apply mask to rows\n",
        "filtered_rows = data[mask]\n",
        "\n",
        "print(\"Filtered Data (salary > 50000):\\n\", filtered_rows)"
      ],
      "metadata": {
        "colab": {
          "base_uri": "https://localhost:8080/"
        },
        "id": "wZHfsSCkmCYf",
        "outputId": "880e402a-7349-4f27-e849-43bfdf95139b"
      },
      "execution_count": null,
      "outputs": [
        {
          "output_type": "stream",
          "name": "stdout",
          "text": [
            "Filtered Data (salary > 50000):\n",
            " [[   30 52000    90]\n",
            " [   22 60000    70]\n",
            " [   35 75000    95]]\n"
          ]
        }
      ]
    },
    {
      "cell_type": "markdown",
      "source": [
        "##**Custom Vectorized Function**\n",
        "\n",
        "In NumPy, you can create custom vectorized functions using the `np.vectorize()` function. This allows you to apply a scalar Python function element-wise to arrays without writing explicit loops.\n",
        "\n",
        "Basic Syntax: np.vectorize(func)\n",
        "\n",
        "func : a python function that takes scalar inputs"
      ],
      "metadata": {
        "id": "SJx1aJHuqVU3"
      }
    },
    {
      "cell_type": "markdown",
      "source": [
        "💡 Example: Custom Vectorized Function to Label Even/Odd Numbers"
      ],
      "metadata": {
        "id": "a5sEJcatcfGp"
      }
    },
    {
      "cell_type": "code",
      "source": [
        "# Define a scalar function\n",
        "def even_or_odd(x):\n",
        "    return \"Even\" if x % 2 == 0 else \"Odd\"\n",
        "\n",
        "# Vectorize it\n",
        "vec_even_or_odd = np.vectorize(even_or_odd)\n",
        "\n",
        "# Create a NumPy array\n",
        "arr = np.array([1, 2, 3, 4, 5])\n",
        "\n",
        "# Apply vectorized function\n",
        "result = vec_even_or_odd(arr)\n",
        "\n",
        "print(result)"
      ],
      "metadata": {
        "colab": {
          "base_uri": "https://localhost:8080/"
        },
        "id": "Kdc2dxQschRn",
        "outputId": "ecd267fe-40d3-4910-ed83-8dea63971757"
      },
      "execution_count": null,
      "outputs": [
        {
          "output_type": "stream",
          "name": "stdout",
          "text": [
            "['Odd' 'Even' 'Odd' 'Even' 'Odd']\n"
          ]
        }
      ]
    },
    {
      "cell_type": "markdown",
      "source": [
        "###**Important Notes:**\n",
        "* `np.vectorize()` does not give performance boosts like true NumPy broadcasting—it is essentially a convenience wrapper around a loop.\n",
        "\n",
        "* Use `np.where`, broadcasting, or ufuncs for performance-critical operations."
      ],
      "metadata": {
        "id": "nQImnambcywH"
      }
    },
    {
      "cell_type": "markdown",
      "source": [
        "Example with Multiple Arguments:"
      ],
      "metadata": {
        "id": "WRhO7EJJdRx9"
      }
    },
    {
      "cell_type": "code",
      "source": [
        "def add_and_double(x, y):\n",
        "    return (x + y) * 2\n",
        "\n",
        "vec_add_double = np.vectorize(add_and_double)\n",
        "\n",
        "a = np.array([1, 2, 3])\n",
        "b = np.array([4, 5, 6])\n",
        "\n",
        "print(vec_add_double(a, b))  # Output: [10 14 18]"
      ],
      "metadata": {
        "colab": {
          "base_uri": "https://localhost:8080/"
        },
        "id": "-aN8Ge5HdSh9",
        "outputId": "5d0cd385-35ab-40ba-a988-72fd17ff4cb6"
      },
      "execution_count": null,
      "outputs": [
        {
          "output_type": "stream",
          "name": "stdout",
          "text": [
            "[10 14 18]\n"
          ]
        }
      ]
    },
    {
      "cell_type": "markdown",
      "source": [
        "You are given a NumPy array of salaries. Classify each salary into one of the following categories based on its value:\n",
        "\n",
        "* \"Low\" if the salary is less than 40,000\n",
        "\n",
        "* \"Medium\" if the salary is between 40,000 (inclusive) and 60,000 (exclusive)\n",
        "\n",
        "* \"High\" if the salary is 60,000 or more\n",
        "\n",
        "* Use \"Unknown\" or \"None\" as a fallback for any salary not fitting the above conditions (optional)\n",
        "\n",
        "\n"
      ],
      "metadata": {
        "id": "6afIfz_dbjKW"
      }
    },
    {
      "cell_type": "code",
      "source": [
        "#Method 1\n",
        "salary = np.array([20000, 30000, 40000, 50000, 120000])\n",
        "\n",
        "conditions = [\n",
        "    salary < 40000,\n",
        "    (salary >= 40000) & (salary < 60000),\n",
        "    salary > 60000\n",
        "]\n",
        "\n",
        "choices = ['Low','Medium','High']\n",
        "levels = np.select(conditions, choices, default = 'Unknown')\n",
        "print(\"Levels: \\n\",levels)"
      ],
      "metadata": {
        "colab": {
          "base_uri": "https://localhost:8080/"
        },
        "id": "RKrZltmUuX3N",
        "outputId": "d0c382ff-ff8c-4928-d96f-8614d5e56f3e"
      },
      "execution_count": null,
      "outputs": [
        {
          "output_type": "stream",
          "name": "stdout",
          "text": [
            "Levels: \n",
            " ['Low' 'Low' 'Medium' 'Medium' 'High']\n"
          ]
        }
      ]
    },
    {
      "cell_type": "code",
      "source": [
        "#Method 2\n",
        "salary = np.array([20000, 30000, 40000, 50000, 120000])\n",
        "levels = []\n",
        "\n",
        "for s in salary:\n",
        "    if s < 40000:\n",
        "        levels.append('Low')\n",
        "    elif s >= 40000 and s < 60000:\n",
        "        levels.append('Medium')\n",
        "    elif s > 60000:\n",
        "        levels.append('High')\n",
        "    else:\n",
        "        levels.append('None')\n",
        "\n",
        "print(\"Levels: \\n\", np.array(levels))"
      ],
      "metadata": {
        "colab": {
          "base_uri": "https://localhost:8080/"
        },
        "id": "lUhM5uqMv6vE",
        "outputId": "60b9fcc4-9a98-40dd-afb6-12e91e2284bb"
      },
      "execution_count": null,
      "outputs": [
        {
          "output_type": "stream",
          "name": "stdout",
          "text": [
            "Levels: \n",
            " ['Low' 'Low' 'Medium' 'Medium' 'High']\n"
          ]
        }
      ]
    },
    {
      "cell_type": "markdown",
      "source": [
        "###**Mini Project**\n",
        "\n",
        "Create a matrix of test scores for several candidates. Each row represents a candidate, and each column represents a score in a particular subject.\n",
        "\n",
        "**Task:**\n",
        "\n",
        "* Replace all test scores below 50 with 50 (treating scores under 50 as \"invalid\").\n",
        "\n",
        "* Find candidates who scored more than 70 in all subjects and shortlist them.\n",
        "  Classify the candidates:\n",
        "  * \"Excellent\" if all scores are greater than 80.\n",
        "  * \"Good\" if the average score is greater than or equal to 70.\n",
        "  * \"Rejected\" otherwise"
      ],
      "metadata": {
        "id": "wRpUmgFlxo4P"
      }
    },
    {
      "cell_type": "code",
      "source": [
        "import numpy as np\n",
        "\n",
        "# Step 1: Creating the test score matrix\n",
        "scores = np.arange(20, 110, 5).reshape(6, 3)\n",
        "print(\"Original Scores:\\n\", scores)\n",
        "\n",
        "# Step 2: Replacing all test scores below 50 with 50\n",
        "newscores = np.where(scores < 50, 50, scores)\n",
        "print(\"\\nCorrected Scores (below 50 replaced with 50):\\n\", newscores)\n",
        "\n",
        "# Step 3: Shortlisting candidates who scored >70 in all subjects\n",
        "shortlist_mask = np.all(newscores > 70, axis=1)\n",
        "shortlisted = newscores[shortlist_mask]\n",
        "\n",
        "print(\"\\nShortlisted Candidates (All scores > 70):\\n\", shortlisted)\n",
        "\n",
        "# Step 4: Classifying shortlisted candidates\n",
        "print(\"\\nClassification of Shortlisted Candidates:\")\n",
        "for i, candidate in enumerate(shortlisted):\n",
        "    if np.all(candidate > 80):\n",
        "        label = \"Excellent\"\n",
        "    elif np.mean(candidate) >= 70:\n",
        "        label = \"Good\"\n",
        "    else:\n",
        "        label = \"Rejected\"\n",
        "    print(f\"Candidate {i+1}: {label}\")"
      ],
      "metadata": {
        "colab": {
          "base_uri": "https://localhost:8080/"
        },
        "id": "AcQqUCBMtasw",
        "outputId": "ce954fb1-3e83-41cc-ba88-68c5e8f5e33d"
      },
      "execution_count": null,
      "outputs": [
        {
          "output_type": "stream",
          "name": "stdout",
          "text": [
            "Original Scores:\n",
            " [[ 20  25  30]\n",
            " [ 35  40  45]\n",
            " [ 50  55  60]\n",
            " [ 65  70  75]\n",
            " [ 80  85  90]\n",
            " [ 95 100 105]]\n",
            "\n",
            "Corrected Scores (below 50 replaced with 50):\n",
            " [[ 50  50  50]\n",
            " [ 50  50  50]\n",
            " [ 50  55  60]\n",
            " [ 65  70  75]\n",
            " [ 80  85  90]\n",
            " [ 95 100 105]]\n",
            "\n",
            "Shortlisted Candidates (All scores > 70):\n",
            " [[ 80  85  90]\n",
            " [ 95 100 105]]\n",
            "\n",
            "Classification of Shortlisted Candidates:\n",
            "Candidate 1: Good\n",
            "Candidate 2: Excellent\n"
          ]
        }
      ]
    },
    {
      "cell_type": "markdown",
      "source": [
        "You have a 2D array. Extract all even numbers from the array using Boolean masking."
      ],
      "metadata": {
        "id": "JTJP0TKY02C7"
      }
    },
    {
      "cell_type": "code",
      "source": [
        "arr = np.array([[1,2,3,4,5,6,7,67,8,64]])\n",
        "newarr = arr.reshape(2,5)\n",
        "print(newarr)\n",
        "print(newarr.shape)\n",
        "mask = newarr % 2 == 0\n",
        "even_numbers = newarr[mask]\n",
        "print(\"\\n\",even_numbers)"
      ],
      "metadata": {
        "colab": {
          "base_uri": "https://localhost:8080/"
        },
        "id": "NTkyeTaL01pz",
        "outputId": "61d17331-994e-4571-e25a-bc38b5836b5e"
      },
      "execution_count": null,
      "outputs": [
        {
          "output_type": "stream",
          "name": "stdout",
          "text": [
            "[[ 1  2  3  4  5]\n",
            " [ 6  7 67  8 64]]\n",
            "(2, 5)\n",
            "\n",
            " [ 2  4  6  8 64]\n"
          ]
        }
      ]
    },
    {
      "cell_type": "markdown",
      "source": [
        "You have a 2D array of student scores. Replace all scores greater than 80 with 100, and all scores less than 50 with 0. Then, calculate the average score per row and column, and return the row with the highest average. Don't use IF conditions."
      ],
      "metadata": {
        "id": "4VMNCy8F3mI7"
      }
    },
    {
      "cell_type": "code",
      "source": [
        "scores = np.arange(20, 110, 5).reshape(6, 3)\n",
        "print(scores)"
      ],
      "metadata": {
        "colab": {
          "base_uri": "https://localhost:8080/"
        },
        "id": "jtl9vny53lyE",
        "outputId": "7f2361b5-f044-4a1e-f640-c9cc24d29730"
      },
      "execution_count": null,
      "outputs": [
        {
          "output_type": "stream",
          "name": "stdout",
          "text": [
            "[[ 20  25  30]\n",
            " [ 35  40  45]\n",
            " [ 50  55  60]\n",
            " [ 65  70  75]\n",
            " [ 80  85  90]\n",
            " [ 95 100 105]]\n"
          ]
        }
      ]
    },
    {
      "cell_type": "code",
      "source": [
        "newscores = np.where(scores > 80, 100, np.where(scores < 50, 0, scores))\n",
        "newscores"
      ],
      "metadata": {
        "colab": {
          "base_uri": "https://localhost:8080/"
        },
        "id": "Cr5ZJRiS4aOx",
        "outputId": "bd301709-3819-405c-f835-0fb15f42215b"
      },
      "execution_count": null,
      "outputs": [
        {
          "output_type": "execute_result",
          "data": {
            "text/plain": [
              "array([[  0,   0,   0],\n",
              "       [  0,   0,   0],\n",
              "       [ 50,  55,  60],\n",
              "       [ 65,  70,  75],\n",
              "       [ 80, 100, 100],\n",
              "       [100, 100, 100]])"
            ]
          },
          "metadata": {},
          "execution_count": 25
        }
      ]
    },
    {
      "cell_type": "code",
      "source": [
        "row_avg = newscores.mean(axis=1)\n",
        "col_avg = newscores.mean(axis=0)\n",
        "max_row = newscores[np.argmax(row_avg)]\n",
        "\n",
        "print(\"Row-wise average:\", row_avg)\n",
        "print(\"Column-wise average:\", col_avg)\n",
        "print(\"Row with highest average:\", max_row)"
      ],
      "metadata": {
        "colab": {
          "base_uri": "https://localhost:8080/"
        },
        "id": "4bqrPmSF7IeT",
        "outputId": "f9e2c698-164a-4862-9519-3d5199a4cb2d"
      },
      "execution_count": null,
      "outputs": [
        {
          "output_type": "stream",
          "name": "stdout",
          "text": [
            "Row-wise average: [  0.           0.          55.          70.          93.33333333\n",
            " 100.        ]\n",
            "Column-wise average: [49.16666667 54.16666667 55.83333333]\n",
            "Row with highest average: [100 100 100]\n"
          ]
        }
      ]
    },
    {
      "cell_type": "markdown",
      "source": [
        "You have a matrix of sales data. For each column (representing a different product), apply a custom discount function to simulate a sales discount.\n",
        "\n",
        "The discount is as follows:\n",
        "\n",
        "* 15% discount if sales are above 1000.\n",
        "\n",
        "* 10% discount if sales are between 500 and 1000.\n",
        "\n",
        "* No discount for sales below 500.\n",
        "\n",
        "Then, calculate the total sales after discount for each product."
      ],
      "metadata": {
        "id": "aRe4gMHv8YSG"
      }
    },
    {
      "cell_type": "code",
      "source": [
        "sales = scores = np.arange(300, 1500, 100).reshape(4, 3)\n",
        "\n",
        "discounted_sales = sales.copy()\n",
        "discounted_sales = np.where(sales > 1000, sales * (1 - 0.15), discounted_sales)\n",
        "discounted_sales = np.where((sales >= 500) & (sales <= 1000), sales *(1 - 0.10), discounted_sales)\n",
        "print(\"Discounted Sales Matrix:\\n\", discounted_sales)\n",
        "\n",
        "total = discounted_sales.sum(axis=0)\n",
        "print(\"Total Sales After Discount per Product:\", total)"
      ],
      "metadata": {
        "colab": {
          "base_uri": "https://localhost:8080/"
        },
        "id": "Gk-VYsrm8c82",
        "outputId": "29cb161b-70bd-461b-81f2-3f4a35797ad4"
      },
      "execution_count": null,
      "outputs": [
        {
          "output_type": "stream",
          "name": "stdout",
          "text": [
            "Discounted Sales Matrix:\n",
            " [[ 300.  400.  450.]\n",
            " [ 540.  630.  720.]\n",
            " [ 810.  900.  935.]\n",
            " [1020. 1105. 1190.]]\n",
            "Total Sales After Discount per Product: [2670. 3035. 3295.]\n"
          ]
        }
      ]
    },
    {
      "cell_type": "code",
      "source": [
        "sales = scores = np.arange(300, 1500, 100).reshape(4, 3)\n",
        "def discount(i):\n",
        "    if i > 1000:\n",
        "        i = i * (1 - 0.15)\n",
        "    elif i >= 500 and i <= 1000:\n",
        "        i = i * (1 - 0.1)\n",
        "    else:\n",
        "        i = i\n",
        "    return i\n",
        "\n",
        "discount_func = np.vectorize(discount)\n",
        "discount_cost = discount_func(sales)\n",
        "total = discount_cost.sum(axis = 0)\n",
        "\n",
        "print(\"Discounted Sales Matrix:\\n\",discount_cost)\n",
        "print(\"Total Sales After Discount per Product:\",total)"
      ],
      "metadata": {
        "colab": {
          "base_uri": "https://localhost:8080/"
        },
        "id": "lgGaY8mMAN-l",
        "outputId": "b171b60b-5c54-47d5-a1df-7c64933ee623"
      },
      "execution_count": null,
      "outputs": [
        {
          "output_type": "stream",
          "name": "stdout",
          "text": [
            "Discounted Sales Matrix:\n",
            " [[ 300  400  450]\n",
            " [ 540  630  720]\n",
            " [ 810  900  935]\n",
            " [1020 1105 1190]]\n",
            "Total Sales After Discount per Product: [2670 3035 3295]\n"
          ]
        }
      ]
    },
    {
      "cell_type": "markdown",
      "source": [
        "#SciPy - Scientific Computing with Python\n",
        "\n",
        "### Introduction\n",
        "* SciPy is a Python library used for scientific and technical computing.\n",
        "* It builds on NumPy and includes modules for:\n",
        "- Optimization\n",
        "- Integration\n",
        "- Interpolation\n",
        "- Linear algebra\n",
        "- Statistics\n",
        "- Signal and image processing\n",
        "- Differential equations\n",
        "\n",
        "\n",
        "\n",
        "### SciPy Sub-packages Overview\n",
        "\n",
        "| Sub-package       | Description                                |\n",
        "|-------------------|--------------------------------------------|\n",
        "| scipy.optimize    | Optimization (min/max problems)            |\n",
        "| scipy.integrate   | Numerical integration                      |\n",
        "| scipy.interpolate | Interpolating functions                    |\n",
        "| scipy.linalg      | Linear algebra operations                  |\n",
        "| scipy.stats       | Statistics and probability                 |\n",
        "| scipy.fft         | Fast Fourier Transforms                    |\n",
        "| scipy.signal      | Signal processing                          |\n",
        "| scipy.sparse      | Sparse matrix support                      |\n",
        "| scipy.spatial     | Spatial algorithms and distances           |\n",
        "| scipy.cluster     | Clustering algorithms                      |\n",
        "| scipy.ndimage     | Image processing                           |\n",
        "| scipy.io          | File input/output (e.g., .mat files)       |\n"
      ],
      "metadata": {
        "id": "95HnNpiJZCjS"
      }
    },
    {
      "cell_type": "markdown",
      "source": [
        "###Examples:\n",
        "\n",
        "**1.Integration**"
      ],
      "metadata": {
        "id": "MonT7onNZpsk"
      }
    },
    {
      "cell_type": "code",
      "source": [
        "from scipy import integrate\n",
        "\n",
        "# Define a simple function to integrate\n",
        "result, error = integrate.quad(lambda x: x**2, 0, 3)\n",
        "print(result)"
      ],
      "metadata": {
        "colab": {
          "base_uri": "https://localhost:8080/"
        },
        "id": "kRhksQ4dZwNr",
        "outputId": "c5888956-79e4-45ea-e783-6866990ff58d"
      },
      "execution_count": 1,
      "outputs": [
        {
          "output_type": "stream",
          "name": "stdout",
          "text": [
            "9.000000000000002\n"
          ]
        }
      ]
    },
    {
      "cell_type": "markdown",
      "source": [
        "**2. Optimization**"
      ],
      "metadata": {
        "id": "vIiE9GG6Z5Ev"
      }
    },
    {
      "cell_type": "code",
      "source": [
        "from scipy.optimize import minimize\n",
        "\n",
        "# Minimize the function f(x) = x^2 + 5\n",
        "res = minimize(lambda x: x**2 + 5, x0=3)\n",
        "print(res.x)  # Output close to 0"
      ],
      "metadata": {
        "colab": {
          "base_uri": "https://localhost:8080/"
        },
        "id": "mSIRx8_2Z7Qh",
        "outputId": "edc5c1ba-dd42-4c90-f593-2ace80cd0a33"
      },
      "execution_count": 3,
      "outputs": [
        {
          "output_type": "stream",
          "name": "stdout",
          "text": [
            "[-2.83269601e-08]\n"
          ]
        }
      ]
    },
    {
      "cell_type": "markdown",
      "source": [
        "**3. Linear Algebra**"
      ],
      "metadata": {
        "id": "hNwwUlSzaCui"
      }
    },
    {
      "cell_type": "code",
      "source": [
        "from scipy import linalg\n",
        "import numpy as np\n",
        "\n",
        "A = np.array([[3, 2], [1, 4]])\n",
        "b = np.array([6, 5])\n",
        "\n",
        "x = linalg.solve(A, b)\n",
        "print(x)  # Solution to Ax = b"
      ],
      "metadata": {
        "colab": {
          "base_uri": "https://localhost:8080/"
        },
        "id": "FNLnQgIraPOC",
        "outputId": "520c7306-2a6e-44de-a762-cb9f04984a85"
      },
      "execution_count": 4,
      "outputs": [
        {
          "output_type": "stream",
          "name": "stdout",
          "text": [
            "[1.4 0.9]\n"
          ]
        }
      ]
    },
    {
      "cell_type": "markdown",
      "source": [
        "**4. Statistics**"
      ],
      "metadata": {
        "id": "NDo3QXMRaTM9"
      }
    },
    {
      "cell_type": "code",
      "source": [
        "from scipy import stats\n",
        "\n",
        "data = [1, 2, 3, 4, 5, 6, 7]\n",
        "mean = stats.tmean(data)\n",
        "std = stats.tstd(data)\n",
        "print(mean, std)"
      ],
      "metadata": {
        "colab": {
          "base_uri": "https://localhost:8080/"
        },
        "id": "c0FKr4-aaUqm",
        "outputId": "73ff68f4-d356-4a22-d777-0b12810d85b9"
      },
      "execution_count": 5,
      "outputs": [
        {
          "output_type": "stream",
          "name": "stdout",
          "text": [
            "4.0 2.160246899469287\n"
          ]
        }
      ]
    },
    {
      "cell_type": "markdown",
      "source": [
        "###**When to Use SciPy?**\n",
        "\n",
        "* When NumPy isn't enough for scientific tasks.\n",
        "\n",
        "* When you need precise control and advanced mathematical methods.\n",
        "\n",
        "* In fields like physics, engineering, finance, AI, and data science."
      ],
      "metadata": {
        "id": "F99AaCUKaZMW"
      }
    },
    {
      "cell_type": "markdown",
      "metadata": {
        "id": "Tm0g7IAIST6T"
      },
      "source": [
        "#Sparse Matrices"
      ]
    },
    {
      "cell_type": "markdown",
      "metadata": {
        "id": "8LYiwhHTb1Ew"
      },
      "source": [
        "Sparse matrices are matrices in which most of the elements are zero. They are common in various fields, such as scientific computing, machine learning, and graph theory, where data sets often contain many zero entries. Using efficient data structures to represent sparse matrices can save memory and computational resources.\n",
        "\n",
        "### Characteristics of Sparse Matrices\n",
        "- **Storage Efficiency**: Sparse matrices can be very large but contain only a few non-zero elements, making it inefficient to store them as regular dense matrices.\n",
        "- **Computational Efficiency**: Many algorithms can be optimized to take advantage of the sparsity, reducing computation time.\n",
        "\n",
        "### Common Data Structures for Sparse Matrices\n",
        "\n",
        "1. **Coordinate List (COO)**\n",
        "   - Stores a list of (row, column, value) tuples for each non-zero element.\n",
        "   - Simple and easy to construct, but not the most efficient for arithmetic operations.\n",
        "\n",
        "   Attributes: data, col,row\n",
        "\n",
        "   \n",
        "\n",
        "2. **Compressed Sparse Row (CSR)**\n",
        "   - Efficient for arithmetic operations, row slicing, and matrix-vector products.\n",
        "   - Stores data in three arrays: `data`, `indices`, and `indptr`.\n",
        "     - `data`: Non-zero values.\n",
        "     - `indices`: Column indices of the corresponding values in `data`.\n",
        "     - `indptr`: Cumulative count of non-zero elements per row.\n",
        "\n",
        "\n",
        "\n",
        "\n",
        "3. **Compressed Sparse Column (CSC)**\n",
        "   - Similar to CSR but optimized for column operations.\n",
        "   - Uses `data`, `indices`, and `indptr`, but stores data column-wise.\n",
        "\n",
        "\n",
        "4. **Dictionary of Keys (DOK)**\n",
        "   - A flexible data structure for constructing sparse matrices incrementally.\n",
        "   - Uses a dictionary to map (row, column) pairs to values.\n",
        "\n",
        "**Use it when:**\n",
        "\n",
        "- Dynamic Construction: If you need to build a sparse matrix iteratively or if the matrix structure is not known in advance.\n",
        "\n",
        "- Sparse Matrix Modifications: If you expect to frequently add or modify individual elements.\n",
        "\n",
        "Attributes: items()\n",
        "\n",
        "\n",
        "5. **List of Lists (LIL)**\n",
        "   - Represents each row as a list of (column index, value) pairs.\n",
        "   - Good for incrementally constructing a sparse matrix.\n",
        "   \n",
        "  Attributes: data, rows\n",
        "\n",
        "   \n",
        "\n",
        "### Choosing the Right Format\n",
        "- **COO**: Good for constructing sparse matrices.\n",
        "- **CSR**: Best for fast arithmetic operations and matrix-vector products.\n",
        "- **CSC**: Optimal for column slicing and matrix-vector products.\n",
        "- **DOK**: Useful for incremental construction.\n",
        "- **LIL**: Effective for building sparse matrices row-by-row.\n",
        "\n",
        "### Applications\n",
        "- **Graph Representation**: Sparse matrices are often used to represent adjacency matrices in graph theory.\n",
        "- **Machine Learning**: They are common in feature matrices for text data (e.g., bag-of-words models).\n",
        "- **Finite Element Analysis**: Sparse matrices represent large systems of equations arising from discretized differential equations.\n",
        "\n"
      ]
    },
    {
      "cell_type": "code",
      "execution_count": 6,
      "metadata": {
        "id": "R7NE4sPJYKrQ",
        "outputId": "e5f63cb4-b4b4-41fe-8fed-cd04253914be",
        "colab": {
          "base_uri": "https://localhost:8080/"
        }
      },
      "outputs": [
        {
          "output_type": "stream",
          "name": "stdout",
          "text": [
            "Sparse output\n",
            "<COOrdinate sparse matrix of dtype 'int64'\n",
            "\twith 4 stored elements and shape (3, 3)>\n",
            "  Coords\tValues\n",
            "  (0, 0)\t4\n",
            "  (1, 2)\t5\n",
            "  (2, 2)\t7\n",
            "  (0, 1)\t9\n",
            "\n",
            "[[4 9 0]\n",
            " [0 0 5]\n",
            " [0 0 7]]\n"
          ]
        }
      ],
      "source": [
        "import numpy as np\n",
        "from scipy.sparse import coo_matrix\n",
        "\n",
        "# Coordinates (row, column, value)\n",
        "rows = np.array([0, 1, 2, 0])\n",
        "cols = np.array([0, 2, 2, 1])\n",
        "values = np.array([4, 5, 7, 9])\n",
        "\n",
        "# Create COO sparse matrix\n",
        "sparse_matrix = coo_matrix((values, (rows, cols)), shape=(3, 3))\n",
        "print(f\"Sparse output\\n{sparse_matrix}\\n\")\n",
        "print(sparse_matrix.toarray())"
      ]
    },
    {
      "cell_type": "code",
      "execution_count": 7,
      "metadata": {
        "id": "3b8oGDPZwKeo",
        "outputId": "0bcf94c7-c4fd-4db3-80b2-1f520fe06d77",
        "colab": {
          "base_uri": "https://localhost:8080/"
        }
      },
      "outputs": [
        {
          "output_type": "execute_result",
          "data": {
            "text/plain": [
              "array([0, 2, 2, 1], dtype=int32)"
            ]
          },
          "metadata": {},
          "execution_count": 7
        }
      ],
      "source": [
        "sparse_matrix.col"
      ]
    },
    {
      "cell_type": "code",
      "execution_count": 8,
      "metadata": {
        "id": "6AW38Wtzlyf1",
        "outputId": "747a7c98-cdad-49f8-d27b-9a1bd0d170fe",
        "colab": {
          "base_uri": "https://localhost:8080/"
        }
      },
      "outputs": [
        {
          "output_type": "stream",
          "name": "stdout",
          "text": [
            "<Compressed Sparse Row sparse matrix of dtype 'int64'\n",
            "\twith 4 stored elements and shape (3, 3)>\n",
            "  Coords\tValues\n",
            "  (0, 0)\t4\n",
            "  (0, 1)\t9\n",
            "  (1, 2)\t5\n",
            "  (2, 2)\t7\n",
            "\n",
            "[[4 9 0]\n",
            " [0 0 5]\n",
            " [0 0 7]]\n"
          ]
        }
      ],
      "source": [
        "from scipy.sparse import csr_matrix\n",
        "\n",
        "# Create a CSR sparse matrix\n",
        "sparse_csr = csr_matrix(sparse_matrix) #np.array([[2,0,0],[4,5,0],[0,1,0]])\n",
        "print(sparse_csr)\n",
        "print()\n",
        "print(sparse_csr.toarray())"
      ]
    },
    {
      "cell_type": "code",
      "execution_count": null,
      "metadata": {
        "id": "VakE37D4w0Ve",
        "outputId": "125a6965-c360-4366-e39d-e7fc2db88358",
        "colab": {
          "base_uri": "https://localhost:8080/"
        }
      },
      "outputs": [
        {
          "output_type": "execute_result",
          "data": {
            "text/plain": [
              "array([0, 2, 3, 4], dtype=int32)"
            ]
          },
          "metadata": {},
          "execution_count": 64
        }
      ],
      "source": [
        "sparse_csr.indptr"
      ]
    },
    {
      "cell_type": "code",
      "execution_count": 9,
      "metadata": {
        "id": "eAU227IInj2q",
        "outputId": "a7370be0-c5b5-4c2d-ee5a-7798016e1876",
        "colab": {
          "base_uri": "https://localhost:8080/"
        }
      },
      "outputs": [
        {
          "output_type": "stream",
          "name": "stdout",
          "text": [
            "CSR matrix:\n",
            " <Compressed Sparse Row sparse matrix of dtype 'int64'\n",
            "\twith 4 stored elements and shape (3, 3)>\n",
            "  Coords\tValues\n",
            "  (0, 2)\t3\n",
            "  (1, 0)\t4\n",
            "  (1, 2)\t5\n",
            "  (2, 1)\t6\n",
            "Dense representation:\n",
            " [[0 0 3]\n",
            " [4 0 5]\n",
            " [0 6 0]]\n"
          ]
        }
      ],
      "source": [
        "dense_matrix = np.array([[0, 0, 3],\n",
        "                          [4, 0, 5],\n",
        "                          [0, 6, 0]])\n",
        "\n",
        "# Convert to CSR format\n",
        "sparse_matrix_csr = csr_matrix(dense_matrix)\n",
        "\n",
        "print(\"CSR matrix:\\n\", sparse_matrix_csr)\n",
        "print(\"Dense representation:\\n\", sparse_matrix_csr.toarray())"
      ]
    },
    {
      "cell_type": "markdown",
      "metadata": {
        "id": "Ad40059jtJro"
      },
      "source": [
        "Data: [3, 4, 5, 6]\n",
        "\n",
        "Column Indices: [2, 0, 2, 1]\n",
        "\n",
        "Row Pointer: [0, 1, 3, 4]"
      ]
    },
    {
      "cell_type": "code",
      "execution_count": null,
      "metadata": {
        "id": "gXSLaM-AM2_Y",
        "outputId": "82ab171d-40a2-4b7d-f2e1-fa7ea82d9454",
        "colab": {
          "base_uri": "https://localhost:8080/"
        }
      },
      "outputs": [
        {
          "output_type": "stream",
          "name": "stdout",
          "text": [
            "[[0 0 3]\n",
            " [4 0 5]\n",
            " [0 6 0]]\n",
            "[4 6 3 5]\n",
            "[1 2 0 1]\n"
          ]
        },
        {
          "output_type": "execute_result",
          "data": {
            "text/plain": [
              "array([0, 1, 2, 4], dtype=int32)"
            ]
          },
          "metadata": {},
          "execution_count": 66
        }
      ],
      "source": [
        "from scipy.sparse import csc_matrix\n",
        "csc_mat= csc_matrix(np.array(np.array([[0,0,3],[4,0,5],[0,6,0]])))\n",
        "print(csc_mat.toarray())\n",
        "print(csc_mat.data)\n",
        "print(csc_mat.indices)\n",
        "csc_mat.indptr"
      ]
    },
    {
      "cell_type": "code",
      "execution_count": null,
      "metadata": {
        "id": "OnqkZXZHmQ8P",
        "outputId": "02fcebc6-c1b5-4614-bb1f-cc4e84384b10",
        "colab": {
          "base_uri": "https://localhost:8080/"
        }
      },
      "outputs": [
        {
          "output_type": "stream",
          "name": "stdout",
          "text": [
            "  (0, 0)\t4\n",
            "  (0, 1)\t9\n",
            "  (1, 2)\t5\n",
            "  (2, 2)\t7\n",
            "\n",
            "[[4 9 0]\n",
            " [0 0 5]\n",
            " [0 0 7]]\n"
          ]
        }
      ],
      "source": [
        "from scipy.sparse import csc_matrix\n",
        "\n",
        "# Create a CSC sparse matrix\n",
        "sparse_csc = csc_matrix(sparse_matrix)\n",
        "print(sparse_csc)\n",
        "print()\n",
        "print(sparse_csc.toarray())"
      ]
    },
    {
      "cell_type": "code",
      "execution_count": null,
      "metadata": {
        "id": "XLCyNWPSnCSw",
        "outputId": "412dc76b-9265-468c-ea0e-2345b6328c14",
        "colab": {
          "base_uri": "https://localhost:8080/"
        }
      },
      "outputs": [
        {
          "output_type": "stream",
          "name": "stdout",
          "text": [
            "after\n",
            "  (0, 0)\t4.0\n",
            "  (1, 2)\t5.0\n",
            "  (2, 2)\t7.0\n",
            "  (0, 1)\t9.0\n",
            "[[4. 9. 0.]\n",
            " [0. 0. 5.]\n",
            " [0. 0. 7.]]\n"
          ]
        }
      ],
      "source": [
        "from scipy.sparse import dok_matrix\n",
        "\n",
        "# Create a DOK sparse matrix\n",
        "sparse_dok = dok_matrix((3, 3))\n",
        "\n",
        "sparse_dok[0, 0] = 4\n",
        "sparse_dok[1, 2] = 5\n",
        "sparse_dok[2, 2] = 7\n",
        "sparse_dok[0, 1] = 9\n",
        "print(f'after\\n{sparse_dok}')\n",
        "\n",
        "print(sparse_dok.toarray())"
      ]
    },
    {
      "cell_type": "code",
      "execution_count": null,
      "metadata": {
        "id": "oLIoygUMxFNk",
        "outputId": "6a5c1236-ac50-4fe2-9f0a-673b1d661f87",
        "colab": {
          "base_uri": "https://localhost:8080/"
        }
      },
      "outputs": [
        {
          "output_type": "execute_result",
          "data": {
            "text/plain": [
              "dict_items([((0, 0), 4.0), ((1, 2), 5.0), ((2, 2), 7.0), ((0, 1), 9.0)])"
            ]
          },
          "metadata": {},
          "execution_count": 69
        }
      ],
      "source": [
        "sparse_dok.items()"
      ]
    },
    {
      "cell_type": "code",
      "execution_count": null,
      "metadata": {
        "id": "Hu8-RZCBtzy5",
        "outputId": "db04a476-0611-4822-f415-9696e9b55873",
        "colab": {
          "base_uri": "https://localhost:8080/"
        }
      },
      "outputs": [
        {
          "output_type": "stream",
          "name": "stdout",
          "text": [
            "[[4. 9. 0.]\n",
            " [0. 0. 5.]\n",
            " [0. 0. 7.]]\n"
          ]
        }
      ],
      "source": [
        "   from scipy.sparse import lil_matrix\n",
        "\n",
        "   # Create a LIL sparse matrix\n",
        "   sparse_lil = lil_matrix((3, 3))\n",
        "   sparse_lil[0, 0] = 4\n",
        "   sparse_lil[1, 2] = 5\n",
        "   sparse_lil[2, 2] = 7\n",
        "   sparse_lil[0, 1] = 9\n",
        "   print(sparse_lil.toarray())"
      ]
    },
    {
      "cell_type": "code",
      "execution_count": null,
      "metadata": {
        "id": "iDOj83c3xScR",
        "outputId": "4db1089f-5a8a-4285-9560-77a08098828b",
        "colab": {
          "base_uri": "https://localhost:8080/"
        }
      },
      "outputs": [
        {
          "output_type": "execute_result",
          "data": {
            "text/plain": [
              "array([list([0, 1]), list([2]), list([2])], dtype=object)"
            ]
          },
          "metadata": {},
          "execution_count": 71
        }
      ],
      "source": [
        "sparse_lil.rows #col indices in each row for non-zero values"
      ]
    },
    {
      "cell_type": "markdown",
      "metadata": {
        "id": "3g4QpmWexunz"
      },
      "source": [
        "####Common methods and functions\n",
        "\n",
        ".toarray() or .todense(): Convert sparse matrix to a dense (NumPy) array.\n",
        "\n",
        ".transpose(): Transpose of the matrix.\n",
        "\n",
        ".tocsr(), .tocsc(), .tocoo(), etc.: Convert between sparse formats.\n",
        "\n",
        ".multiply(): Element-wise multiplication.\n",
        "\n",
        ".dot(): Matrix-vector or matrix-matrix multiplication.\n",
        "\n",
        ".sum(axis): Sum over the specified axis.\n",
        "\n",
        ".nonzero(): Indices of non-zero elements.\n",
        "\n",
        ".eliminate_zeros(): Remove zero entries from sparse matrix.\n",
        "\n",
        ".setdiag(): Set values along the diagonal of the matrix.\n",
        "\n",
        ".shape, .nnz: Get the shape and the number of non-zero elements in the matrix.\n"
      ]
    },
    {
      "cell_type": "code",
      "execution_count": null,
      "metadata": {
        "id": "IZHDUKGyyO96",
        "outputId": "1a5aa029-b2f7-492e-8a89-27d4ddc6a37d",
        "colab": {
          "base_uri": "https://localhost:8080/"
        }
      },
      "outputs": [
        {
          "output_type": "execute_result",
          "data": {
            "text/plain": [
              "array([[4, 9, 0],\n",
              "       [0, 0, 5],\n",
              "       [0, 0, 7]])"
            ]
          },
          "metadata": {},
          "execution_count": 72
        }
      ],
      "source": [
        "sparse_csr.toarray()"
      ]
    },
    {
      "cell_type": "code",
      "execution_count": null,
      "metadata": {
        "id": "BwlrPWhVyx97",
        "outputId": "e12d1556-4036-4514-afda-bc5db97ba1ce",
        "colab": {
          "base_uri": "https://localhost:8080/"
        }
      },
      "outputs": [
        {
          "output_type": "execute_result",
          "data": {
            "text/plain": [
              "array([[4, 9, 0],\n",
              "       [0, 0, 5],\n",
              "       [0, 0, 7]])"
            ]
          },
          "metadata": {},
          "execution_count": 73
        }
      ],
      "source": [
        "sparse_csc.toarray()"
      ]
    },
    {
      "cell_type": "code",
      "execution_count": null,
      "metadata": {
        "id": "MNVdYNb6yBug",
        "outputId": "2c8a59eb-e0e4-4611-c557-add06ca195a9",
        "colab": {
          "base_uri": "https://localhost:8080/"
        }
      },
      "outputs": [
        {
          "output_type": "execute_result",
          "data": {
            "text/plain": [
              "array([[4, 0, 0],\n",
              "       [9, 0, 0],\n",
              "       [0, 5, 7]])"
            ]
          },
          "metadata": {},
          "execution_count": 74
        }
      ],
      "source": [
        "sparse_csr.transpose().toarray()"
      ]
    },
    {
      "cell_type": "code",
      "execution_count": null,
      "metadata": {
        "id": "RnAIFCERyoT3",
        "outputId": "40c591d3-e6aa-4cf0-8fe0-0ff6fef580c6",
        "colab": {
          "base_uri": "https://localhost:8080/"
        }
      },
      "outputs": [
        {
          "output_type": "execute_result",
          "data": {
            "text/plain": [
              "array([[16, 81,  0],\n",
              "       [ 0,  0, 25],\n",
              "       [ 0,  0, 49]])"
            ]
          },
          "metadata": {},
          "execution_count": 75
        }
      ],
      "source": [
        "sparse_csr.multiply(sparse_csc).toarray()"
      ]
    },
    {
      "cell_type": "code",
      "execution_count": null,
      "metadata": {
        "id": "w0SCwgJwzAzC",
        "outputId": "96fbe7c5-55b5-4a8e-f1e0-583681b32773",
        "colab": {
          "base_uri": "https://localhost:8080/"
        }
      },
      "outputs": [
        {
          "output_type": "execute_result",
          "data": {
            "text/plain": [
              "array([[16, 36, 45],\n",
              "       [ 0,  0, 35],\n",
              "       [ 0,  0, 49]])"
            ]
          },
          "metadata": {},
          "execution_count": 76
        }
      ],
      "source": [
        "sparse_csr.dot(sparse_csc).toarray()"
      ]
    },
    {
      "cell_type": "code",
      "execution_count": null,
      "metadata": {
        "id": "PLDMpP6kE_a9",
        "outputId": "a5b72f80-c859-4943-d3fe-1043300cf465",
        "colab": {
          "base_uri": "https://localhost:8080/"
        }
      },
      "outputs": [
        {
          "output_type": "execute_result",
          "data": {
            "text/plain": [
              "array([[4, 9, 0],\n",
              "       [0, 0, 5],\n",
              "       [0, 0, 7]])"
            ]
          },
          "metadata": {},
          "execution_count": 77
        }
      ],
      "source": [
        "sparse_csr.toarray()"
      ]
    },
    {
      "cell_type": "code",
      "execution_count": null,
      "metadata": {
        "id": "B_dNrXaC2JNI",
        "outputId": "1a0576c2-cb15-4ea4-d287-f55c57f712e6",
        "colab": {
          "base_uri": "https://localhost:8080/"
        }
      },
      "outputs": [
        {
          "output_type": "execute_result",
          "data": {
            "text/plain": [
              "matrix([[ 4,  9, 12]])"
            ]
          },
          "metadata": {},
          "execution_count": 78
        }
      ],
      "source": [
        "sparse_csr.sum(axis=0)"
      ]
    },
    {
      "cell_type": "code",
      "execution_count": null,
      "metadata": {
        "id": "IDEOV0R-2XzS",
        "outputId": "ee8429c2-55f8-4db6-cd14-c76ac3c29347",
        "colab": {
          "base_uri": "https://localhost:8080/"
        }
      },
      "outputs": [
        {
          "output_type": "execute_result",
          "data": {
            "text/plain": [
              "(array([0, 0, 1, 2], dtype=int32), array([0, 1, 2, 2], dtype=int32))"
            ]
          },
          "metadata": {},
          "execution_count": 79
        }
      ],
      "source": [
        "sparse_csr.nonzero()"
      ]
    },
    {
      "cell_type": "code",
      "execution_count": null,
      "metadata": {
        "id": "iI2V0eKr29mP",
        "outputId": "87addce9-d281-477c-c60c-209998bd0cb4",
        "colab": {
          "base_uri": "https://localhost:8080/"
        }
      },
      "outputs": [
        {
          "output_type": "execute_result",
          "data": {
            "text/plain": [
              "array([[4, 9, 0],\n",
              "       [0, 0, 5],\n",
              "       [2, 0, 7]])"
            ]
          },
          "metadata": {},
          "execution_count": 80
        }
      ],
      "source": [
        "sparse_csr.setdiag(values=[2,3,1],k=-2)\n",
        "sparse_csr.toarray()"
      ]
    },
    {
      "cell_type": "code",
      "execution_count": null,
      "metadata": {
        "id": "EQeYyFZRVnLE",
        "outputId": "21a2e9b1-a16e-4cb8-ba5d-4e36af9558d0",
        "colab": {
          "base_uri": "https://localhost:8080/"
        }
      },
      "outputs": [
        {
          "output_type": "execute_result",
          "data": {
            "text/plain": [
              "5"
            ]
          },
          "metadata": {},
          "execution_count": 81
        }
      ],
      "source": [
        "sparse_csr.nnz"
      ]
    },
    {
      "cell_type": "markdown",
      "metadata": {
        "id": "6ompmL9rvJBq"
      },
      "source": [
        "Problem:\n",
        "\n",
        "Create a sparse matrix using SciPy’s csr_matrix format with at least 100 rows and 100 columns, where only 5% of the elements are non-zero.\n",
        "\n",
        "Convert the matrix to COO and CSC formats.\n",
        "\n",
        "Print the number of non-zero elements in each format.\n",
        "\n",
        "Perform matrix addition with another sparse matrix of the same dimensions."
      ]
    },
    {
      "cell_type": "code",
      "execution_count": null,
      "metadata": {
        "id": "jLzKFFJIvRlS",
        "outputId": "1b7d0cff-1cac-472e-9118-970fb4516bd4",
        "colab": {
          "base_uri": "https://localhost:8080/"
        }
      },
      "outputs": [
        {
          "output_type": "stream",
          "name": "stdout",
          "text": [
            "Non-zero elements in CSR format: 489\n",
            "Non-zero elements in COO format: 489\n",
            "Non-zero elements in CSC format: 489\n",
            "Result of sparse matrix addition:\n",
            "   (0, 49)\t0.8396363364201294\n",
            "  (0, 56)\t1.8241471496881876\n",
            "  (0, 66)\t1.343394503538519\n",
            "  (0, 73)\t0.25324246310442367\n",
            "  (0, 74)\t1.2894278128161885\n",
            "  (1, 0)\t0.200976985545253\n",
            "  (1, 27)\t1.3308285156365123\n",
            "  (1, 42)\t0.6059742932551588\n",
            "  (1, 68)\t1.9588083441937185\n",
            "  (1, 98)\t1.7221234998102692\n",
            "  (2, 46)\t1.891178131357571\n",
            "  (2, 50)\t1.7538014987441575\n",
            "  (2, 55)\t0.535150219713431\n",
            "  (2, 57)\t1.02402436201118\n",
            "  (2, 91)\t1.924367314276664\n",
            "  (3, 21)\t0.35989910431702055\n",
            "  (3, 41)\t1.7929614930711262\n",
            "  (3, 65)\t0.6821225657560044\n",
            "  (3, 73)\t0.14788785064886434\n",
            "  (4, 22)\t0.5951829953401278\n",
            "  (4, 75)\t0.787565234653864\n",
            "  (5, 17)\t1.7738481779708548\n",
            "  (5, 25)\t1.9131176196784034\n",
            "  (5, 55)\t0.8258392618855259\n",
            "  (5, 58)\t1.9604079467693913\n",
            "  :\t:\n",
            "  (92, 81)\t0.06240287166284286\n",
            "  (92, 83)\t0.29422080164801345\n",
            "  (93, 31)\t1.6842326586479681\n",
            "  (93, 37)\t0.7147432170608714\n",
            "  (93, 59)\t1.902572290552163\n",
            "  (94, 1)\t0.23182482499766155\n",
            "  (94, 32)\t1.5273847297161418\n",
            "  (94, 42)\t1.8333683162647554\n",
            "  (95, 29)\t0.22851509800597292\n",
            "  (95, 65)\t0.9152144492558638\n",
            "  (96, 49)\t1.02004111093464\n",
            "  (96, 59)\t1.3640755528550277\n",
            "  (96, 63)\t1.5363762830775471\n",
            "  (96, 90)\t1.4224920461427448\n",
            "  (97, 18)\t0.20733318380486887\n",
            "  (97, 43)\t0.33627003356166396\n",
            "  (97, 77)\t0.23556651362871595\n",
            "  (97, 92)\t0.4127912942229677\n",
            "  (98, 30)\t0.8592977559751598\n",
            "  (98, 37)\t0.43487671394803984\n",
            "  (98, 52)\t0.6369067376583804\n",
            "  (99, 13)\t0.4984032496932873\n",
            "  (99, 29)\t1.5323940553304154\n",
            "  (99, 38)\t1.680342626157665\n",
            "  (99, 76)\t1.213122490937709\n"
          ]
        }
      ],
      "source": [
        "from scipy.sparse import csr_matrix, coo_matrix, csc_matrix\n",
        "import numpy as np\n",
        "\n",
        "# Creating a sparse matrix with 100 rows and 100 columns, with 5% non-zero elements\n",
        "rows, cols = 100, 100\n",
        "density = 0.05\n",
        "num_nonzeros = int(rows * cols * density)\n",
        "\n",
        "# Random indices and data\n",
        "row_indices = np.random.randint(0, rows, size=num_nonzeros)\n",
        "col_indices = np.random.randint(0, cols, size=num_nonzeros)\n",
        "data = np.random.rand(num_nonzeros)\n",
        "\n",
        "# Creating the sparse matrix in CSR format\n",
        "csr100 = csr_matrix((data, (row_indices, col_indices)), shape=(rows, cols))\n",
        "\n",
        "# Converting to COO and CSC formats\n",
        "coo100 = csr100.tocoo()\n",
        "csc100 = csr100.tocsc()\n",
        "\n",
        "# Print the number of non-zero elements in each format\n",
        "print(\"Non-zero elements in CSR format:\", csr100.nnz)\n",
        "print(\"Non-zero elements in COO format:\", coo100.nnz)\n",
        "print(\"Non-zero elements in CSC format:\", csc100.nnz)\n",
        "\n",
        "# Matrix addition with another sparse matrix\n",
        "sparse_csr2 = csr_matrix((data, (row_indices, col_indices)), shape=(rows, cols))\n",
        "added_matrix = csr100 + sparse_csr2\n",
        "print(\"Result of sparse matrix addition:\\n\", added_matrix)\n"
      ]
    },
    {
      "cell_type": "markdown",
      "metadata": {
        "id": "4esm0WGAVADa"
      },
      "source": [
        " Create a 5x5 sparse matrix where only the diagonal elements are 1 and the rest are zeros. Print both the sparse and dense representations."
      ]
    },
    {
      "cell_type": "code",
      "execution_count": null,
      "metadata": {
        "id": "1PXUgVwpyH8x",
        "outputId": "9f4e0651-443e-47d2-9fb6-d006dfcfd48f",
        "colab": {
          "base_uri": "https://localhost:8080/"
        }
      },
      "outputs": [
        {
          "output_type": "stream",
          "name": "stdout",
          "text": [
            "  (0, 0)\t1.0\n",
            "  (1, 1)\t1.0\n",
            "  (2, 2)\t1.0\n",
            "  (3, 3)\t1.0\n",
            "  (4, 4)\t1.0\n",
            "[[1. 0. 0. 0. 0.]\n",
            " [0. 1. 0. 0. 0.]\n",
            " [0. 0. 1. 0. 0.]\n",
            " [0. 0. 0. 1. 0.]\n",
            " [0. 0. 0. 0. 1.]]\n"
          ]
        }
      ],
      "source": [
        "diag_csr=csr_matrix(np.eye(5))\n",
        "print(diag_csr)\n",
        "print(diag_csr.toarray())"
      ]
    },
    {
      "cell_type": "markdown",
      "metadata": {
        "id": "8IVMiH0OWShb"
      },
      "source": [
        "For a given sparse matrix, print the indices and values of all non-zero elements."
      ]
    },
    {
      "cell_type": "code",
      "execution_count": null,
      "metadata": {
        "id": "EbZQS841VccZ",
        "outputId": "af6176d5-7a5d-4e0e-f0c2-e0e96a9866df",
        "colab": {
          "base_uri": "https://localhost:8080/"
        }
      },
      "outputs": [
        {
          "output_type": "stream",
          "name": "stdout",
          "text": [
            "(0, 0) 1\n",
            "(1, 0) 3\n",
            "(1, 1) 4\n",
            "(2, 2) 2\n"
          ]
        }
      ],
      "source": [
        "csr1= csr_matrix(np.array([[1,0,0],[3,4,0],[0,0,2]]))\n",
        "r,c= csr1.nonzero()\n",
        "val= csr1.data\n",
        "for r,c,v in zip(r,c,val):\n",
        "  print((r,c),v)"
      ]
    },
    {
      "cell_type": "markdown",
      "metadata": {
        "id": "sICe_mmKpnty"
      },
      "source": [
        "Given a sparse matrix, count the number of non-zero elements in each row and print the results."
      ]
    },
    {
      "cell_type": "code",
      "execution_count": null,
      "metadata": {
        "id": "iw-dOri3WyOc",
        "outputId": "b277007a-98c7-4cc3-c1cc-0ab2b7095d19",
        "colab": {
          "base_uri": "https://localhost:8080/"
        }
      },
      "outputs": [
        {
          "output_type": "stream",
          "name": "stdout",
          "text": [
            "Non-zero elements per row: [1 2 1]\n"
          ]
        }
      ],
      "source": [
        "non_zero_counts = csr1.getnnz(axis=1)\n",
        "\n",
        "print(\"Non-zero elements per row:\", non_zero_counts)"
      ]
    },
    {
      "cell_type": "markdown",
      "metadata": {
        "id": "zZbhZV6Pp7N0"
      },
      "source": [
        "Given a sparse matrix, extract a 2x2 submatrix from the top left corner and print the result."
      ]
    },
    {
      "cell_type": "code",
      "execution_count": null,
      "metadata": {
        "id": "rkzxgGZ5p719",
        "outputId": "fc20db3d-bb37-4c75-f2eb-c8940bb74c4a",
        "colab": {
          "base_uri": "https://localhost:8080/"
        }
      },
      "outputs": [
        {
          "output_type": "stream",
          "name": "stdout",
          "text": [
            "[[1 0 0]\n",
            " [3 4 0]\n",
            " [0 0 2]]\n"
          ]
        },
        {
          "output_type": "execute_result",
          "data": {
            "text/plain": [
              "array([[1, 0],\n",
              "       [3, 4]])"
            ]
          },
          "metadata": {},
          "execution_count": 86
        }
      ],
      "source": [
        "print(csr1.toarray())\n",
        "csr1[:2,:2].toarray()"
      ]
    },
    {
      "cell_type": "markdown",
      "metadata": {
        "id": "sW_TyK8TQbTU"
      },
      "source": [
        "Write python code to perform following operation using NumPy Library package:\n",
        "1.\tCalculate and display the sum of all the diagonal elements of a NumPy array.\n",
        "2.\tCompute and display the covariance matrix of a given NumPy arrays\n",
        "Use: 3 X 3 Matrix\n"
      ]
    },
    {
      "cell_type": "code",
      "execution_count": null,
      "metadata": {
        "id": "yyroUVP9JqXj"
      },
      "outputs": [],
      "source": [
        "import numpy as np\n",
        "\n",
        "li = list(map(int,input(\"Enetr elements of a matrix seperated by spaces: \").strip().split()))\n",
        "matrix = np.array_split(li,3)\n",
        "matrix = np.array(matrix)\n",
        "print(np.array(matrix))\n",
        "\n",
        "# Calculate and display the sum of all diagonal elements\n",
        "diagonal_sum = np.trace(matrix)\n",
        "print(\"Sum of all diagonal elements:\", diagonal_sum)\n",
        "\n",
        "# Compute and display the covariance matrix\n",
        "covariance_matrix = np.cov(matrix)\n",
        "print(\"Covariance matrix:\\n\", covariance_matrix)\n"
      ]
    },
    {
      "cell_type": "markdown",
      "metadata": {
        "id": "Qbg2_-iXTcdw"
      },
      "source": [
        "Write Python Code to invert a matrix representing a system of linear equations and find the solution.\n",
        "- Enter coefficients\n",
        "- Enter constants\n",
        "- Create matrix for both\n",
        "- Solve and find the answer\n"
      ]
    },
    {
      "cell_type": "code",
      "execution_count": null,
      "metadata": {
        "id": "LvCx0Li7JtEM"
      },
      "outputs": [],
      "source": [
        "import numpy as np\n",
        "\n",
        "# Input the coefficients of the equations\n",
        "print(\"Enter the coefficients for a 3x3 matrix (system of 3 equations with 3 variables):\")\n",
        "coefficients = []\n",
        "for i in range(3):\n",
        "    row = list(map(float, input(f\"Enter coefficients for equation {i+1} separated by spaces: \").split()))\n",
        "    coefficients.append(row)\n",
        "print(coefficients)\n",
        "# Input the constants on the right side of the equations\n",
        "print(\"Enter the constants for each equation:\")\n",
        "constants = list(map(float, input(\"Enter constants separated by spaces: \").split()))\n",
        "\n",
        "# Convert lists to NumPy arrays\n",
        "A = np.array(coefficients)\n",
        "B = np.array(constants)\n",
        "\n",
        "# Calculate the inverse of the coefficient matrix A\n",
        "try:\n",
        "    A_inv = np.linalg.inv(A)\n",
        "    # Solve the system of equations using matrix inversion  X = inverse(A).B\n",
        "    solution = np.dot(A_inv, B)\n",
        "    print(\"The solution for the system of equations is:\", solution)\n",
        "except np.linalg.LinAlgError:\n",
        "    print(\"The matrix is singular and cannot be inverted. The system may not have a unique solution.\")\n"
      ]
    },
    {
      "cell_type": "markdown",
      "metadata": {
        "id": "P6wHThYaVOdQ"
      },
      "source": [
        "Code to Convert a sparse matrix in CSR format back to a dense matrix without using SciPy Libraries. Follow the below steps to complete the task:\n",
        "- The user inputs the row and column indices and the corresponding values for the non-zero elements of the matrix.\n",
        "- A CSR-like structure is created using three lists: values, row_indices, and col_indices.\n",
        "- The convert_to_dense function converts this structure into a dense matrix.\n",
        "- The dense matrix is printed out."
      ]
    },
    {
      "cell_type": "code",
      "execution_count": null,
      "metadata": {
        "id": "y_rRGGoUKjpE"
      },
      "outputs": [],
      "source": [
        "import numpy as np\n",
        "\n",
        "def create_csr_structure(row_indices, col_indices, values, num_rows, num_cols):\n",
        "    # Initialize CSR-like structure\n",
        "    csr_values = values\n",
        "    csr_col_indices = col_indices\n",
        "    csr_row_start = [0] * (num_rows + 1)\n",
        "\n",
        "    # Populate row_start with the starting index of each row in values\n",
        "    for row in row_indices:\n",
        "        csr_row_start[row + 1] += 1\n",
        "\n",
        "    # Cumulative sum to get the row start pointers\n",
        "    for i in range(1, len(csr_row_start)):\n",
        "        csr_row_start[i] += csr_row_start[i - 1]\n",
        "\n",
        "    return csr_values, csr_row_start, csr_col_indices\n",
        "\n",
        "def convert_to_dense(values, row_start, col_indices, num_rows, num_cols):\n",
        "    # Initialize a dense matrix with zeros\n",
        "    dense_matrix = np.zeros((num_rows, num_cols))\n",
        "\n",
        "    # Populate the dense matrix\n",
        "    for row in range(num_rows):\n",
        "        start = row_start[row]\n",
        "        end = row_start[row + 1]\n",
        "        for idx in range(start, end):\n",
        "            col = col_indices[idx]\n",
        "            dense_matrix[row][col] = values[idx]\n",
        "\n",
        "    return dense_matrix\n",
        "\n",
        "# User inputs for the sparse matrix in CSR format\n",
        "num_rows = int(input(\"Enter the number of rows: \"))\n",
        "num_cols = int(input(\"Enter the number of columns: \"))\n",
        "num_nonzero = int(input(\"Enter the number of non-zero elements: \"))\n",
        "\n",
        "# Initialize lists for CSR format inputs\n",
        "row_indices = []\n",
        "col_indices = []\n",
        "values = []\n",
        "\n",
        "print(\"Enter the row index, column index, and value for each non-zero element:\")\n",
        "\n",
        "for _ in range(num_nonzero):\n",
        "    row, col, val = map(int, input(\"Row Col Value: \").split())\n",
        "    row_indices.append(row)\n",
        "    col_indices.append(col)\n",
        "    values.append(val)\n",
        "\n",
        "# Create CSR-like structure\n",
        "csr_values, csr_row_start, csr_col_indices = create_csr_structure(row_indices, col_indices, values, num_rows, num_cols)\n",
        "\n",
        "# Convert to dense matrix\n",
        "dense_matrix = convert_to_dense(csr_values, csr_row_start, csr_col_indices, num_rows, num_cols)\n",
        "\n",
        "# Print the dense matrix\n",
        "print(\"Dense matrix:\")\n",
        "print(dense_matrix)\n",
        "\n"
      ]
    },
    {
      "cell_type": "code",
      "execution_count": null,
      "metadata": {
        "id": "3wKfLXkbSZ9Y"
      },
      "outputs": [],
      "source": [
        "# seed function\n",
        "\n",
        "import numpy as np\n",
        "np.random.seed(0)\n",
        "print(np.random.rand(3,3))"
      ]
    }
  ]
}